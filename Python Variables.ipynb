{
 "cells": [
  {
   "cell_type": "code",
   "execution_count": 151,
   "id": "5a88ed7f",
   "metadata": {},
   "outputs": [],
   "source": [
    "#What do variables mean? \n",
    "#Variables are entities of a program that hold a value like X=200.\n",
    "\n",
    "#To understand this better [ The box is holding a value. A variable would be the name given to the box]\n",
    "\n",
    "#X would be the variable name and 200 would be the value of the variable.\n",
    "\n",
    "\n",
    "#As we'll go through the various topics here, you'll have the better understanding why we use and how to use them.\n",
    "\n",
    "\n",
    "#Various Data Types of Variables.\n",
    "\n",
    "\n",
    "#Let me explain what Data Types are.\n",
    "\n",
    "\n",
    "#What do Data Types mean? \n",
    "#The type of value that you assign to the variables.\n",
    "\n",
    "#There are two types of numbers Integers and Float.\n",
    "#Integers means numbers without a decimal point.\n",
    "#Float means numbers with a decimal point.\n",
    "\n",
    "#Other than this a Common data type is String. \n",
    "#Sting means a collection of characters [any words]"
   ]
  },
  {
   "cell_type": "code",
   "execution_count": null,
   "id": "05149b94",
   "metadata": {},
   "outputs": [],
   "source": [
    "#In this code snippet, we declare a variable X and assign it the value of 100.\n",
    "#The next line of code type(X) is used to determine the type of X. In this case, X is an integer, so running this line of code will output <class 'int'>.\n",
    "\n",
    "#The type() function is a built-in Python function that returns the type of the object passed to it.\n",
    "#In this case, we passed the variable X to the type() function, and it returned the type of X, which is int.\n",
    "\n",
    "#This code is a simple example of how to use Python variables and the type() function to determine the type of a variable.\n",
    "#By assigning a value to a variable, we can store data in memory and manipulate it in our code.\n",
    "#The type() function is a useful tool for debugging and verifying the type of data in our code.\n",
    "\n",
    "\n",
    "X = 200\n",
    "type(X)"
   ]
  },
  {
   "cell_type": "code",
   "execution_count": 88,
   "id": "eb155f11",
   "metadata": {},
   "outputs": [
    {
     "data": {
      "text/plain": [
       "int"
      ]
     },
     "execution_count": 88,
     "metadata": {},
     "output_type": "execute_result"
    }
   ],
   "source": [
    "#We declare a variable X and assign it the result of the arithmetic operation 648*789. When this line of code is executed, Python multiplies 648 and 789, and assigns the result to X. In this case, X has a value of 512472.\n",
    "\n",
    "#The next line of code type(X) is used to determine the type of X. In this case, X is an integer, so running this line of code will output <class 'int'>.\n",
    "\n",
    "#The type() function is a built-in Python function that returns the type of the object passed to it. In this case, we passed the variable X to the type() function, and it returned the type of X, which is int.\n",
    "\n",
    "\n",
    "X = 648*789\n",
    "type(X)"
   ]
  },
  {
   "cell_type": "code",
   "execution_count": 89,
   "id": "499e2a39",
   "metadata": {},
   "outputs": [
    {
     "name": "stdout",
     "output_type": "stream",
     "text": [
      "511272\n"
     ]
    }
   ],
   "source": [
    "#We declare a variable X and assign it the result of the arithmetic operation 648*789. When this line of code is executed, Python multiplies 648 and 789, and assigns the result to X. In this case, X has a value of 512472.\n",
    "\n",
    "#The print() function is then used to output the value of X to the console. When this line of code is executed, Python prints the value of X to the console, which in this case is 512472.\n",
    "\n",
    "\n",
    "X = 648*789\n",
    "print(X)"
   ]
  },
  {
   "cell_type": "code",
   "execution_count": 90,
   "id": "73204ef0",
   "metadata": {},
   "outputs": [
    {
     "data": {
      "text/plain": [
       "float"
      ]
     },
     "execution_count": 90,
     "metadata": {},
     "output_type": "execute_result"
    }
   ],
   "source": [
    "#we declare a variable X and assign it the value 3.254. This value is a decimal or a floating-point number. When this line of code is executed, Python assigns the value 3.254 to X.\n",
    "\n",
    "#The next line of code type(X) is used to determine the type of X. In this case, X is a floating-point number, so running this line of code will output <class 'float'>.\n",
    "\n",
    "#The type() function is a built-in Python function that returns the type of the object passed to it. In this case, we passed the variable X to the type() function, and it returned the type of X, which is float.\n",
    "\n",
    "\n",
    "X = 3.254\n",
    "type(X)"
   ]
  },
  {
   "cell_type": "code",
   "execution_count": 91,
   "id": "a722561b",
   "metadata": {},
   "outputs": [
    {
     "name": "stdout",
     "output_type": "stream",
     "text": [
      "Python\n"
     ]
    }
   ],
   "source": [
    "#We declare a variable X and assign it the string value \"Python\". The print() function is then used to output the value of X to the console. When this line of code is executed, the string \"Python\" will be printed to the console.\n",
    "\n",
    "#In Python, we can use single or double quotes to create string literals. In this case, we used double quotes, but single quotes would also work. The print() function is a built-in Python function that outputs data to the console. When we pass the variable X as an argument to print(), it will output the value of X to the console.\n",
    "\n",
    "\n",
    "X = \"Python\"\n",
    "print(X)"
   ]
  },
  {
   "cell_type": "code",
   "execution_count": 153,
   "id": "b5b55018",
   "metadata": {},
   "outputs": [
    {
     "name": "stdout",
     "output_type": "stream",
     "text": [
      "Python\n"
     ]
    }
   ],
   "source": [
    "#In the first line of code, we declare a variable X and assign it a string value of \"Python\" using double quotes. Double quotes and single quotes are both used to declare string literals in Python, and in this case, the string is enclosed in double quotes.\n",
    "\n",
    "#In the second line of code, we declare a variable X and assign it a string value of \"Python\" using single quotes. Again, single quotes and double quotes can be used interchangeably to declare strings in Python.\n",
    "\n",
    "#The third line of code print(X) is used to print the value of X to the console. Since the value of X is the same in both lines of code, running this line of code after either line will output the string \"Python\".\n",
    "\n",
    "#The type(X) function is used in the first line of code to determine the type of X. In this case, X is a string, so running this line of code will output <class 'str'>.\n",
    "\n",
    "#The main difference between the two lines of code is the type of quotes used to enclose the string value. While both double quotes and single quotes can be used to declare strings in Python, it's important to be consistent in your usage throughout your code.\n",
    "\n",
    "X = 'Python'\n",
    "print(X)"
   ]
  },
  {
   "cell_type": "code",
   "execution_count": 92,
   "id": "acb989c8",
   "metadata": {},
   "outputs": [
    {
     "data": {
      "text/plain": [
       "str"
      ]
     },
     "execution_count": 92,
     "metadata": {},
     "output_type": "execute_result"
    }
   ],
   "source": [
    "#We declare a variable X and assign it a string value of \"Python\". When this line of code is executed, Python creates a string object with the value \"Python\", and assigns it to the variable X.\n",
    "\n",
    "#The next line of code type(X) is used to determine the type of X. In this case, X is a string, so running this line of code will output <class 'str'>.\n",
    "\n",
    "\n",
    "X = \"Python\"\n",
    "type(X)"
   ]
  },
  {
   "cell_type": "code",
   "execution_count": null,
   "id": "4433e69c",
   "metadata": {},
   "outputs": [],
   "source": [
    "#In Python, a tuple is an ordered, immutable sequence of elements. This means that once a tuple is created, its contents cannot be changed. Tuples are represented using parentheses () and can contain elements of any data type, including other tuples.\n",
    "\n",
    "#Tuples are similar to lists in that they can store multiple elements, but there are some important differences:\n",
    "\n",
    "#Lists are mutable, which means that their contents can be changed after they are created, while tuples are immutable and cannot be changed.\n",
    "#Lists are represented using square brackets [], while tuples are represented using parentheses ().\n",
    "#Lists are typically used when we need to store a collection of items that can be modified over time, while tuples are used when we need to store a collection of items that should not be modified once they are created.\n",
    "\n",
    "#Overall, tuples can be a useful tool in Python for storing collections of data that should not be modified once they are created, and understanding the differences between tuples and lists is important for writing effective Python code."
   ]
  },
  {
   "cell_type": "code",
   "execution_count": 93,
   "id": "afeb5ba9",
   "metadata": {},
   "outputs": [],
   "source": [
    "#LIST\n",
    "\n",
    "#In Python, a list is a data structure that allows you to store a collection of elements. It is a mutable object, which means that you can add, remove, or modify elements after you have created the list. Lists are created using square brackets [] and separating the elements with commas.\n",
    "\n"
   ]
  },
  {
   "cell_type": "code",
   "execution_count": 94,
   "id": "c0a3b1b2",
   "metadata": {},
   "outputs": [
    {
     "name": "stdout",
     "output_type": "stream",
     "text": [
      "[18, 58, 48]\n"
     ]
    }
   ],
   "source": [
    "#we declare a variable X and assign it a list of three integer values: 18, 58, and 48. The square brackets [] are used to define the list, and the values are separated by commas.\n",
    "\n",
    "#The print() function is then used to output the contents of X to the console. When this line of code is executed, Python will display the list [18, 58, 48] in the console.\n",
    "\n",
    "#Lists are one of the most commonly used data structures in Python. They are used to store a collection of values that can be accessed and manipulated in various ways.\n",
    "\n",
    "\n",
    "X = [18,58,48]\n",
    "print(X)"
   ]
  },
  {
   "cell_type": "code",
   "execution_count": 95,
   "id": "539d8f94",
   "metadata": {},
   "outputs": [
    {
     "data": {
      "text/plain": [
       "list"
      ]
     },
     "execution_count": 95,
     "metadata": {},
     "output_type": "execute_result"
    }
   ],
   "source": [
    "#we declare a variable X and assign it a list containing three integer values: 18, 58, and 48. In Python, a list is a collection of items that are ordered and changeable.\n",
    "\n",
    "#The next line of code type(X) is used to determine the type of X. In this case, X is a list, so running this line of code will output <class 'list'>.\n",
    "\n",
    "#The type() function is a built-in Python function that returns the type of the object passed to it. In this case, we passed the variable X to the type() function, and it returned the type of X, which is list.\n",
    "\n",
    "\n",
    "X = [18,58,48]\n",
    "type(X)"
   ]
  },
  {
   "cell_type": "code",
   "execution_count": 96,
   "id": "e3124c75",
   "metadata": {},
   "outputs": [
    {
     "name": "stdout",
     "output_type": "stream",
     "text": [
      "18\n"
     ]
    }
   ],
   "source": [
    "#we declare a variable named X and assign it a list containing the elements 18, 58, and 48. The list is created using square brackets [], and the elements are separated by commas. This type of list is called a numeric list, as it contains only numbers.\n",
    "\n",
    "#The next line of code print(X[0]) accesses the first element of the list X, which has an index of 0. In Python, list indices start at 0, so the first element of the list has an index of 0, the second element has an index of 1, and so on. By accessing the first element of the list using its index, we can print its value to the console using the print() function.\n",
    "\n",
    "#In this case, running this line of code will output 18 to the console, since 18 is the value of the first element in the list.\n",
    "\n",
    "\n",
    "X = [18,58,48]\n",
    "print(X[0])"
   ]
  },
  {
   "cell_type": "code",
   "execution_count": 97,
   "id": "91fe123f",
   "metadata": {},
   "outputs": [
    {
     "name": "stdout",
     "output_type": "stream",
     "text": [
      "48\n"
     ]
    }
   ],
   "source": [
    "#we declare a list variable named X and assign it a list of integers [18, 58, 48]. Lists in Python are used to store collections of items, such as numbers, strings, or other objects.\n",
    "\n",
    "#The next line of code, print(X[2]), prints the third item in the list X, which has an index of 2. In Python, list indexing starts at 0, so the first item in the list has an index of 0, the second item has an index of 1, and so on. Since we want to print the third item in the list, we use an index of 2.\n",
    "\n",
    "#When this line of code is executed, the value 48 is printed to the console.\n",
    "\n",
    "\n",
    "X = [18,58,48]\n",
    "print(X[2])"
   ]
  },
  {
   "cell_type": "code",
   "execution_count": 98,
   "id": "bbea990e",
   "metadata": {},
   "outputs": [
    {
     "name": "stdout",
     "output_type": "stream",
     "text": [
      "[18, 20, 48]\n"
     ]
    }
   ],
   "source": [
    "#This code creates a list named X that contains three integer values: 18, 58, and 48. The list is created using square brackets to enclose the values, separated by commas.\n",
    "\n",
    "#The next line of code X[1] = 20 changes the value of the second element in the list (at index 1) to 20. In Python, list indices start at 0, so the second element in the list has an index of 1.\n",
    "\n",
    "#Finally, the print(X) function is used to display the contents of the list after the change has been made. The output will show that the second element (at index 1) has been changed from 58 to 20, while the other elements remain the same.\n",
    "\n",
    "#This code demonstrates how to create a list in Python, access and modify elements of the list, and how to use the print() function to display the contents of the list.\n",
    "\n",
    "\n",
    "X = [18,58,48]\n",
    "X[1] = 20\n",
    "print(X)"
   ]
  },
  {
   "cell_type": "code",
   "execution_count": 99,
   "id": "9e2c497f",
   "metadata": {},
   "outputs": [],
   "source": [
    "#TUPLE\n",
    "\n",
    "#In Python, a tuple is an ordered, immutable sequence of elements. This means that once a tuple is created, its contents cannot be changed. Tuples are represented using parentheses () and can contain elements of any data type, including other tuples.\n",
    "#One of the main benefits of tuples is that they are more efficient than lists when it comes to storing and accessing elements. This is because tuples are stored in a contiguous block of memory, while lists are stored in a fragmented block of memory that needs to be resized as elements are added or removed.\n",
    "\n",
    "#Tuples are similar to lists in that they can store multiple elements, but there are some important differences:\n",
    "\n",
    "#Lists are mutable, which means that their contents can be changed after they are created, while tuples are immutable and cannot be changed.\n",
    "#Lists are represented using square brackets [], while tuples are represented using parentheses ().\n",
    "#Lists are typically used when we need to store a collection of items that can be modified over time, while tuples are used when we need to store a collection of items that should not be modified once they are created.\n",
    "\n",
    "#Overall, tuples can be a useful tool in Python for storing collections of data that should not be modified once they are created."
   ]
  },
  {
   "cell_type": "code",
   "execution_count": 100,
   "id": "9a83dcb0",
   "metadata": {},
   "outputs": [
    {
     "name": "stdout",
     "output_type": "stream",
     "text": [
      "(2, 5, 8, 6)\n"
     ]
    }
   ],
   "source": [
    "#we declare a variable X and assign it a tuple with the values 2, 5, 8, and 6. A tuple is a data structure in Python that can store multiple values of different types in a single variable. Tuples are immutable, which means their values cannot be changed once they are assigned.\n",
    "\n",
    "#The next line of code print(X) is used to print the contents of X to the console. When this line of code is executed, Python will output (2, 5, 8, 6) to the console.\n",
    "\n",
    "#By declaring a variable and assigning it a tuple of values, this example demonstrates how to use tuples in Python to store multiple values in a single variable. The print() function is used to display the contents of the tuple in the console.\n",
    "\n",
    "\n",
    "X = (2,5,8,6)\n",
    "print(X)"
   ]
  },
  {
   "cell_type": "code",
   "execution_count": 101,
   "id": "7932ddf6",
   "metadata": {},
   "outputs": [
    {
     "data": {
      "text/plain": [
       "tuple"
      ]
     },
     "execution_count": 101,
     "metadata": {},
     "output_type": "execute_result"
    }
   ],
   "source": [
    "#we declare a variable named X and assign it a tuple of four elements (2,5,8,6). A tuple is an ordered collection of elements, similar to a list, but it is immutable, which means its elements cannot be changed once it is created.\n",
    "\n",
    "#The next line of code, type(X), is used to determine the type of X. When this line of code is executed, Python returns the type of X, which is <class 'tuple'>.\n",
    "\n",
    "#The type() function is a built-in Python function that returns the type of the object passed to it. In this case, we passed the variable X to the type() function, and it returned the type of X, which is tuple.\n",
    "\n",
    "\n",
    "X = (2,5,8,6)\n",
    "type(X)"
   ]
  },
  {
   "cell_type": "code",
   "execution_count": 102,
   "id": "036c3fb8",
   "metadata": {},
   "outputs": [
    {
     "name": "stdout",
     "output_type": "stream",
     "text": [
      "8\n"
     ]
    }
   ],
   "source": [
    "#we declare a variable X and assign it a tuple (2, 5, 8, 6). A tuple is an ordered collection of items, and is similar to a list in Python, but cannot be modified once it is created.\n",
    "\n",
    "#The next line of code print(X[2]) uses the print() function to output the third item in the tuple. In Python, indexes start at 0, so X[2] refers to the third item in the tuple, which has a value of 8. Therefore, running this line of code will output 8.\n",
    "\n",
    "#This example demonstrates how to create a tuple in Python, and how to access the items in the tuple using index notation. By using the print() function, we can output the value of a specific item in the tuple to the console.\n",
    "\n",
    "\n",
    "X = X = (2,5,8,6)\n",
    "print(X[2])"
   ]
  },
  {
   "cell_type": "code",
   "execution_count": 103,
   "id": "a2f34271",
   "metadata": {},
   "outputs": [
    {
     "ename": "TypeError",
     "evalue": "'tuple' object does not support item assignment",
     "output_type": "error",
     "traceback": [
      "\u001b[1;31m---------------------------------------------------------------------------\u001b[0m",
      "\u001b[1;31mTypeError\u001b[0m                                 Traceback (most recent call last)",
      "\u001b[1;32m~\\AppData\\Local\\Temp\\ipykernel_25128\\1919925698.py\u001b[0m in \u001b[0;36m<module>\u001b[1;34m\u001b[0m\n\u001b[0;32m      1\u001b[0m \u001b[0mX\u001b[0m \u001b[1;33m=\u001b[0m \u001b[0mX\u001b[0m \u001b[1;33m=\u001b[0m \u001b[1;33m(\u001b[0m\u001b[1;36m2\u001b[0m\u001b[1;33m,\u001b[0m\u001b[1;36m5\u001b[0m\u001b[1;33m,\u001b[0m\u001b[1;36m8\u001b[0m\u001b[1;33m,\u001b[0m\u001b[1;36m6\u001b[0m\u001b[1;33m)\u001b[0m\u001b[1;33m\u001b[0m\u001b[1;33m\u001b[0m\u001b[0m\n\u001b[1;32m----> 2\u001b[1;33m \u001b[0mX\u001b[0m\u001b[1;33m[\u001b[0m\u001b[1;36m1\u001b[0m\u001b[1;33m]\u001b[0m \u001b[1;33m=\u001b[0m \u001b[1;36m20\u001b[0m\u001b[1;33m\u001b[0m\u001b[1;33m\u001b[0m\u001b[0m\n\u001b[0m\u001b[0;32m      3\u001b[0m \u001b[0mprint\u001b[0m\u001b[1;33m(\u001b[0m\u001b[0mX\u001b[0m\u001b[1;33m)\u001b[0m\u001b[1;33m\u001b[0m\u001b[1;33m\u001b[0m\u001b[0m\n",
      "\u001b[1;31mTypeError\u001b[0m: 'tuple' object does not support item assignment"
     ]
    }
   ],
   "source": [
    "#we declare a variable X and assign it a tuple (2, 5, 8, 6). As mentioned before, a tuple is an ordered collection of items that cannot be modified once it is created.\n",
    "\n",
    "#The next line of code X[1] = 20 attempts to modify the second item in the tuple to a new value of 20. However, since tuples are immutable in Python, this operation will result in a TypeError, with a message saying 'tuple' object does not support item assignment.\n",
    "\n",
    "#Finally, print(X) attempts to output the modified tuple to the console. However, since the previous line of code raised an error, this line of code will not execute.\n",
    "\n",
    "#This example demonstrates how Python handles immutable data structures like tuples, and how attempting to modify them can lead to errors. It also shows how Python's error messages can provide helpful information in diagnosing the source of the problem.\n",
    "\n",
    "\n",
    "X = X = (2,5,8,6)\n",
    "X[1] = 20\n",
    "print(X)"
   ]
  },
  {
   "cell_type": "code",
   "execution_count": 104,
   "id": "73404d3a",
   "metadata": {},
   "outputs": [
    {
     "name": "stdout",
     "output_type": "stream",
     "text": [
      "4\n",
      "5\n",
      "7\n"
     ]
    }
   ],
   "source": [
    "(x,y,z) = 4,5,7\n",
    "print(x)\n",
    "print(y)\n",
    "print(z)"
   ]
  },
  {
   "cell_type": "code",
   "execution_count": 106,
   "id": "de0cdbf7",
   "metadata": {},
   "outputs": [
    {
     "name": "stdout",
     "output_type": "stream",
     "text": [
      "4 5 7\n"
     ]
    }
   ],
   "source": [
    "(x,y,z) = 4,5,7\n",
    "print(x,y,z)"
   ]
  },
  {
   "cell_type": "code",
   "execution_count": 105,
   "id": "9286818d",
   "metadata": {},
   "outputs": [
    {
     "ename": "ValueError",
     "evalue": "too many values to unpack (expected 2)",
     "output_type": "error",
     "traceback": [
      "\u001b[1;31m---------------------------------------------------------------------------\u001b[0m",
      "\u001b[1;31mValueError\u001b[0m                                Traceback (most recent call last)",
      "\u001b[1;32m~\\AppData\\Local\\Temp\\ipykernel_25128\\435925196.py\u001b[0m in \u001b[0;36m<module>\u001b[1;34m\u001b[0m\n\u001b[1;32m----> 1\u001b[1;33m \u001b[1;33m(\u001b[0m\u001b[0mx\u001b[0m\u001b[1;33m,\u001b[0m\u001b[0my\u001b[0m\u001b[1;33m)\u001b[0m \u001b[1;33m=\u001b[0m \u001b[1;36m4\u001b[0m\u001b[1;33m,\u001b[0m\u001b[1;36m5\u001b[0m\u001b[1;33m,\u001b[0m\u001b[1;36m7\u001b[0m\u001b[1;33m\u001b[0m\u001b[1;33m\u001b[0m\u001b[0m\n\u001b[0m",
      "\u001b[1;31mValueError\u001b[0m: too many values to unpack (expected 2)"
     ]
    }
   ],
   "source": [
    "(x,y) = 4,5,7"
   ]
  },
  {
   "cell_type": "code",
   "execution_count": 107,
   "id": "0d43b539",
   "metadata": {},
   "outputs": [
    {
     "name": "stdout",
     "output_type": "stream",
     "text": [
      "2 2 2\n"
     ]
    }
   ],
   "source": [
    "(x,y,z) = 2,2,2\n",
    "print(x,y,z)"
   ]
  },
  {
   "cell_type": "code",
   "execution_count": 108,
   "id": "87cf947c",
   "metadata": {},
   "outputs": [
    {
     "name": "stdout",
     "output_type": "stream",
     "text": [
      "1 1 1\n"
     ]
    }
   ],
   "source": [
    "x = y = z = 1\n",
    "print(x,y,z)"
   ]
  },
  {
   "cell_type": "code",
   "execution_count": 109,
   "id": "feb53a16",
   "metadata": {},
   "outputs": [
    {
     "name": "stdout",
     "output_type": "stream",
     "text": [
      "234\n"
     ]
    }
   ],
   "source": [
    "abc = 234\n",
    "print(abc)"
   ]
  },
  {
   "cell_type": "code",
   "execution_count": 110,
   "id": "998fc7bc",
   "metadata": {},
   "outputs": [],
   "source": [
    "#Rules for naming a variables."
   ]
  },
  {
   "cell_type": "code",
   "execution_count": 111,
   "id": "cc5d4878",
   "metadata": {},
   "outputs": [],
   "source": [
    "#First Rule.\n",
    "#Variable name must begin with an alphabet or an underscore(_).\n",
    "#Like abc, _abc, not like 5abc, %abc."
   ]
  },
  {
   "cell_type": "code",
   "execution_count": 112,
   "id": "5750a53c",
   "metadata": {},
   "outputs": [
    {
     "name": "stdout",
     "output_type": "stream",
     "text": [
      "234\n"
     ]
    }
   ],
   "source": [
    "_abc = 234\n",
    "print(_abc)"
   ]
  },
  {
   "cell_type": "code",
   "execution_count": 113,
   "id": "fd4cb950",
   "metadata": {},
   "outputs": [
    {
     "ename": "SyntaxError",
     "evalue": "invalid syntax (1305303204.py, line 1)",
     "output_type": "error",
     "traceback": [
      "\u001b[1;36m  File \u001b[1;32m\"C:\\Users\\gunap\\AppData\\Local\\Temp\\ipykernel_25128\\1305303204.py\"\u001b[1;36m, line \u001b[1;32m1\u001b[0m\n\u001b[1;33m    7abc = 234\u001b[0m\n\u001b[1;37m     ^\u001b[0m\n\u001b[1;31mSyntaxError\u001b[0m\u001b[1;31m:\u001b[0m invalid syntax\n"
     ]
    }
   ],
   "source": [
    "7abc = 234\n",
    "print(7abc)"
   ]
  },
  {
   "cell_type": "code",
   "execution_count": 114,
   "id": "4652ab52",
   "metadata": {},
   "outputs": [
    {
     "ename": "SyntaxError",
     "evalue": "invalid syntax (1793590979.py, line 1)",
     "output_type": "error",
     "traceback": [
      "\u001b[1;36m  File \u001b[1;32m\"C:\\Users\\gunap\\AppData\\Local\\Temp\\ipykernel_25128\\1793590979.py\"\u001b[1;36m, line \u001b[1;32m1\u001b[0m\n\u001b[1;33m    &abc = 234\u001b[0m\n\u001b[1;37m    ^\u001b[0m\n\u001b[1;31mSyntaxError\u001b[0m\u001b[1;31m:\u001b[0m invalid syntax\n"
     ]
    }
   ],
   "source": [
    "&abc = 234\n",
    "print(&abc)"
   ]
  },
  {
   "cell_type": "code",
   "execution_count": 115,
   "id": "56ecfcae",
   "metadata": {},
   "outputs": [],
   "source": [
    "#Second Rule.\n",
    "#The first character can be followed by alphabets,numbers or underscore.\n",
    "#Like a102, _a342_, not like a589$, xyz-4."
   ]
  },
  {
   "cell_type": "code",
   "execution_count": 116,
   "id": "4bf1edd8",
   "metadata": {},
   "outputs": [
    {
     "name": "stdout",
     "output_type": "stream",
     "text": [
      "75\n"
     ]
    }
   ],
   "source": [
    "a102 = 75\n",
    "print(a102)"
   ]
  },
  {
   "cell_type": "code",
   "execution_count": 117,
   "id": "0a09ec82",
   "metadata": {},
   "outputs": [
    {
     "name": "stdout",
     "output_type": "stream",
     "text": [
      "75\n"
     ]
    }
   ],
   "source": [
    "_a342_ = 75\n",
    "print(_a342_)"
   ]
  },
  {
   "cell_type": "code",
   "execution_count": 118,
   "id": "eafac150",
   "metadata": {},
   "outputs": [
    {
     "ename": "SyntaxError",
     "evalue": "invalid syntax (2465945915.py, line 1)",
     "output_type": "error",
     "traceback": [
      "\u001b[1;36m  File \u001b[1;32m\"C:\\Users\\gunap\\AppData\\Local\\Temp\\ipykernel_25128\\2465945915.py\"\u001b[1;36m, line \u001b[1;32m1\u001b[0m\n\u001b[1;33m    a589$ = 75\u001b[0m\n\u001b[1;37m        ^\u001b[0m\n\u001b[1;31mSyntaxError\u001b[0m\u001b[1;31m:\u001b[0m invalid syntax\n"
     ]
    }
   ],
   "source": [
    "a589$ = 75\n",
    "print(a589$)"
   ]
  },
  {
   "cell_type": "code",
   "execution_count": 119,
   "id": "165ecee7",
   "metadata": {},
   "outputs": [
    {
     "ename": "SyntaxError",
     "evalue": "cannot assign to operator (1300602142.py, line 1)",
     "output_type": "error",
     "traceback": [
      "\u001b[1;36m  File \u001b[1;32m\"C:\\Users\\gunap\\AppData\\Local\\Temp\\ipykernel_25128\\1300602142.py\"\u001b[1;36m, line \u001b[1;32m1\u001b[0m\n\u001b[1;33m    xyz-4 = 75\u001b[0m\n\u001b[1;37m    ^\u001b[0m\n\u001b[1;31mSyntaxError\u001b[0m\u001b[1;31m:\u001b[0m cannot assign to operator\n"
     ]
    }
   ],
   "source": [
    "xyz-4 = 75\n",
    "print(xyz-4)"
   ]
  },
  {
   "cell_type": "code",
   "execution_count": 120,
   "id": "6ca6a91c",
   "metadata": {},
   "outputs": [],
   "source": [
    "#Third Rule.\n",
    "#Variables names are case sencitive.\n",
    "#a250 is different from A250."
   ]
  },
  {
   "cell_type": "code",
   "execution_count": 121,
   "id": "c19e4fe8",
   "metadata": {},
   "outputs": [
    {
     "name": "stdout",
     "output_type": "stream",
     "text": [
      "34\n",
      "56\n"
     ]
    }
   ],
   "source": [
    "a250 = 34\n",
    "A250 = 56\n",
    "print(a250)\n",
    "print(A250)"
   ]
  },
  {
   "cell_type": "code",
   "execution_count": 122,
   "id": "5f98e63c",
   "metadata": {},
   "outputs": [
    {
     "name": "stdout",
     "output_type": "stream",
     "text": [
      "34 78 56\n"
     ]
    }
   ],
   "source": [
    "a250 = 34\n",
    "A250 = 56\n",
    "b250 = 78\n",
    "print(a250, b250, A250)"
   ]
  },
  {
   "cell_type": "code",
   "execution_count": 123,
   "id": "5f23c453",
   "metadata": {},
   "outputs": [
    {
     "name": "stdout",
     "output_type": "stream",
     "text": [
      "34 56 78\n"
     ]
    }
   ],
   "source": [
    "a250 = 34\n",
    "A250 = 56\n",
    "b250 = 78\n",
    "print(a250, A250, b250)"
   ]
  },
  {
   "cell_type": "code",
   "execution_count": 124,
   "id": "16e3e711",
   "metadata": {},
   "outputs": [],
   "source": [
    "#Fourth Rule.\n",
    "#Reserved words cannot be used as variable names.\n",
    "#Like break, class, try, and all..."
   ]
  },
  {
   "cell_type": "code",
   "execution_count": 125,
   "id": "d5fd0886",
   "metadata": {},
   "outputs": [
    {
     "ename": "SyntaxError",
     "evalue": "invalid syntax (2061180873.py, line 1)",
     "output_type": "error",
     "traceback": [
      "\u001b[1;36m  File \u001b[1;32m\"C:\\Users\\gunap\\AppData\\Local\\Temp\\ipykernel_25128\\2061180873.py\"\u001b[1;36m, line \u001b[1;32m1\u001b[0m\n\u001b[1;33m    break = 56\u001b[0m\n\u001b[1;37m          ^\u001b[0m\n\u001b[1;31mSyntaxError\u001b[0m\u001b[1;31m:\u001b[0m invalid syntax\n"
     ]
    }
   ],
   "source": [
    "break = 56\n",
    "print(break)"
   ]
  },
  {
   "cell_type": "code",
   "execution_count": 126,
   "id": "b4a3b78c",
   "metadata": {},
   "outputs": [
    {
     "ename": "SyntaxError",
     "evalue": "invalid syntax (3468253508.py, line 1)",
     "output_type": "error",
     "traceback": [
      "\u001b[1;36m  File \u001b[1;32m\"C:\\Users\\gunap\\AppData\\Local\\Temp\\ipykernel_25128\\3468253508.py\"\u001b[1;36m, line \u001b[1;32m1\u001b[0m\n\u001b[1;33m    try = 56\u001b[0m\n\u001b[1;37m        ^\u001b[0m\n\u001b[1;31mSyntaxError\u001b[0m\u001b[1;31m:\u001b[0m invalid syntax\n"
     ]
    }
   ],
   "source": [
    "try = 56\n",
    "type(try)"
   ]
  },
  {
   "cell_type": "code",
   "execution_count": 127,
   "id": "cfb1f2cb",
   "metadata": {},
   "outputs": [],
   "source": [
    "#Arithmetic Operators"
   ]
  },
  {
   "cell_type": "code",
   "execution_count": 128,
   "id": "567a52ac",
   "metadata": {},
   "outputs": [
    {
     "name": "stdout",
     "output_type": "stream",
     "text": [
      "-5\n"
     ]
    }
   ],
   "source": [
    "x = 4\n",
    "y = 9\n",
    "result = x-y\n",
    "print(result)"
   ]
  },
  {
   "cell_type": "code",
   "execution_count": 129,
   "id": "5a806bc2",
   "metadata": {},
   "outputs": [
    {
     "name": "stdout",
     "output_type": "stream",
     "text": [
      "36\n"
     ]
    }
   ],
   "source": [
    "x = 4\n",
    "y = 9\n",
    "result = x*y\n",
    "print(result)"
   ]
  },
  {
   "cell_type": "code",
   "execution_count": 130,
   "id": "303a1f61",
   "metadata": {},
   "outputs": [
    {
     "name": "stdout",
     "output_type": "stream",
     "text": [
      "0.4444444444444444\n"
     ]
    }
   ],
   "source": [
    "x = 4\n",
    "y = 9\n",
    "result = x/y\n",
    "print(result)"
   ]
  },
  {
   "cell_type": "code",
   "execution_count": 131,
   "id": "5e71b976",
   "metadata": {},
   "outputs": [
    {
     "name": "stdout",
     "output_type": "stream",
     "text": [
      "0\n"
     ]
    }
   ],
   "source": [
    "x = 4\n",
    "y = 9\n",
    "result = x//y\n",
    "print(result)"
   ]
  },
  {
   "cell_type": "code",
   "execution_count": 132,
   "id": "c6fdd682",
   "metadata": {},
   "outputs": [
    {
     "name": "stdout",
     "output_type": "stream",
     "text": [
      "2.0\n"
     ]
    }
   ],
   "source": [
    "x = 4\n",
    "y = 2\n",
    "result = x/y\n",
    "print(result)"
   ]
  },
  {
   "cell_type": "code",
   "execution_count": 133,
   "id": "d8ac34d1",
   "metadata": {},
   "outputs": [
    {
     "name": "stdout",
     "output_type": "stream",
     "text": [
      "0\n"
     ]
    }
   ],
   "source": [
    "x = 4\n",
    "y = 9\n",
    "result = x//y\n",
    "print(result)"
   ]
  },
  {
   "cell_type": "code",
   "execution_count": 134,
   "id": "e1468f2b",
   "metadata": {},
   "outputs": [
    {
     "name": "stdout",
     "output_type": "stream",
     "text": [
      "4\n"
     ]
    }
   ],
   "source": [
    "x = 4\n",
    "y = 9\n",
    "result = x%y\n",
    "print(result)"
   ]
  },
  {
   "cell_type": "code",
   "execution_count": 135,
   "id": "a2197165",
   "metadata": {},
   "outputs": [
    {
     "name": "stdout",
     "output_type": "stream",
     "text": [
      "0.4579918032786885\n"
     ]
    }
   ],
   "source": [
    "x = 4.47\n",
    "y = 9.76\n",
    "result = x/y\n",
    "print(result)"
   ]
  },
  {
   "cell_type": "code",
   "execution_count": 136,
   "id": "367d9c06",
   "metadata": {},
   "outputs": [],
   "source": [
    "#String Operations"
   ]
  },
  {
   "cell_type": "code",
   "execution_count": 137,
   "id": "117492ed",
   "metadata": {},
   "outputs": [
    {
     "data": {
      "text/plain": [
       "str"
      ]
     },
     "execution_count": 137,
     "metadata": {},
     "output_type": "execute_result"
    }
   ],
   "source": [
    "var = \"python\"\n",
    "type(var)"
   ]
  },
  {
   "cell_type": "code",
   "execution_count": 138,
   "id": "7b0c3803",
   "metadata": {},
   "outputs": [
    {
     "name": "stdout",
     "output_type": "stream",
     "text": [
      "p\n"
     ]
    }
   ],
   "source": [
    "var = \"python\"\n",
    "print(var[0])"
   ]
  },
  {
   "cell_type": "code",
   "execution_count": 139,
   "id": "85f53c31",
   "metadata": {},
   "outputs": [
    {
     "name": "stdout",
     "output_type": "stream",
     "text": [
      "n\n"
     ]
    }
   ],
   "source": [
    "var = \"python\"\n",
    "print(var[5])"
   ]
  },
  {
   "cell_type": "code",
   "execution_count": 140,
   "id": "9f1302c7",
   "metadata": {},
   "outputs": [
    {
     "name": "stdout",
     "output_type": "stream",
     "text": [
      "p\n"
     ]
    }
   ],
   "source": [
    "var = \"python\"\n",
    "print(var[0:1])"
   ]
  },
  {
   "cell_type": "code",
   "execution_count": 141,
   "id": "6fb8574d",
   "metadata": {},
   "outputs": [
    {
     "name": "stdout",
     "output_type": "stream",
     "text": [
      "py\n"
     ]
    }
   ],
   "source": [
    "var = \"python\"\n",
    "print(var[0:2])"
   ]
  },
  {
   "cell_type": "code",
   "execution_count": 142,
   "id": "8f33783f",
   "metadata": {},
   "outputs": [
    {
     "name": "stdout",
     "output_type": "stream",
     "text": [
      "pytho\n"
     ]
    }
   ],
   "source": [
    "var = \"python\"\n",
    "print(var[0:5])"
   ]
  },
  {
   "cell_type": "code",
   "execution_count": 143,
   "id": "7fc0ac56",
   "metadata": {},
   "outputs": [
    {
     "name": "stdout",
     "output_type": "stream",
     "text": [
      "python\n"
     ]
    }
   ],
   "source": [
    "var = \"python\"\n",
    "print(var[0:6])"
   ]
  },
  {
   "cell_type": "code",
   "execution_count": 144,
   "id": "a5722086",
   "metadata": {},
   "outputs": [
    {
     "name": "stdout",
     "output_type": "stream",
     "text": [
      "pytho\n"
     ]
    }
   ],
   "source": [
    "var = \"python\"\n",
    "print(var[:5])"
   ]
  },
  {
   "cell_type": "code",
   "execution_count": 145,
   "id": "aa6690a1",
   "metadata": {},
   "outputs": [
    {
     "name": "stdout",
     "output_type": "stream",
     "text": [
      "python\n"
     ]
    }
   ],
   "source": [
    "var = \"python\"\n",
    "print(var[:6])"
   ]
  },
  {
   "cell_type": "code",
   "execution_count": 146,
   "id": "981cf701",
   "metadata": {},
   "outputs": [
    {
     "name": "stdout",
     "output_type": "stream",
     "text": [
      "python\n"
     ]
    }
   ],
   "source": [
    "var = \"python\"\n",
    "print(var[0:])"
   ]
  },
  {
   "cell_type": "code",
   "execution_count": 147,
   "id": "d026b7ef",
   "metadata": {},
   "outputs": [
    {
     "name": "stdout",
     "output_type": "stream",
     "text": [
      "thon\n"
     ]
    }
   ],
   "source": [
    "var = \"python\"\n",
    "print(var[2:])"
   ]
  },
  {
   "cell_type": "code",
   "execution_count": 148,
   "id": "0ed79280",
   "metadata": {},
   "outputs": [
    {
     "name": "stdout",
     "output_type": "stream",
     "text": [
      "python\n"
     ]
    }
   ],
   "source": [
    "var = \"python\"\n",
    "print(var[0:50])"
   ]
  },
  {
   "cell_type": "code",
   "execution_count": 149,
   "id": "bed7bf03",
   "metadata": {},
   "outputs": [
    {
     "name": "stdout",
     "output_type": "stream",
     "text": [
      "n\n"
     ]
    }
   ],
   "source": [
    "var = \"python\"\n",
    "print(var[5:25])"
   ]
  },
  {
   "cell_type": "code",
   "execution_count": 150,
   "id": "be1ff6d3",
   "metadata": {},
   "outputs": [
    {
     "data": {
      "text/plain": [
       "6"
      ]
     },
     "execution_count": 150,
     "metadata": {},
     "output_type": "execute_result"
    }
   ],
   "source": [
    "var = \"python\"\n",
    "len(var)"
   ]
  }
 ],
 "metadata": {
  "kernelspec": {
   "display_name": "Python 3 (ipykernel)",
   "language": "python",
   "name": "python3"
  },
  "language_info": {
   "codemirror_mode": {
    "name": "ipython",
    "version": 3
   },
   "file_extension": ".py",
   "mimetype": "text/x-python",
   "name": "python",
   "nbconvert_exporter": "python",
   "pygments_lexer": "ipython3",
   "version": "3.9.13"
  }
 },
 "nbformat": 4,
 "nbformat_minor": 5
}
