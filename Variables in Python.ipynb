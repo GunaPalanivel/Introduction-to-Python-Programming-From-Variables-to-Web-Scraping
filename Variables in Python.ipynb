{
 "cells": [
  {
   "cell_type": "code",
   "execution_count": 1,
   "id": "77204dcb",
   "metadata": {},
   "outputs": [],
   "source": [
    "#WHAT DO VARIABLES MEAN? \n",
    "\n",
    "\n",
    "#Variables are entities of a program that hold a value like X=200.\n",
    "\n",
    "#To understand this better \n",
    " #[ The box is holding a value. A variable would be the name given to the box]\n",
    "\n",
    "#X would be the variable name and 200 would be the value of the variable.\n",
    "\n",
    "#As we'll go through the various topics here, \n",
    " #you'll have the better understanding why we use and how to use them.\n",
    "\n",
    "    \n",
    "#VARIOUS DATA TYPES OF VARIABLES. \n",
    "#LET ME EXPLAIN WHAT DATA TYPES ARE.\n",
    "\n",
    "\n",
    "#WHAT DO DATA TYPES MEAN?  \n",
    "\n",
    "\n",
    "#The type of value that you assign to the variables.\n",
    "\n",
    "#There are two types of numbers Integers and Float.\n",
    "\n",
    "#Integers means numbers without a decimal point.\n",
    "\n",
    "#Float means numbers with a decimal point.\n",
    "\n",
    "#Other than this a Common data type is String. \n",
    "\n",
    "#Sting means a collection of characters [any words]"
   ]
  },
  {
   "cell_type": "code",
   "execution_count": 2,
   "id": "cd0abcad",
   "metadata": {},
   "outputs": [
    {
     "data": {
      "text/plain": [
       "int"
      ]
     },
     "execution_count": 2,
     "metadata": {},
     "output_type": "execute_result"
    }
   ],
   "source": [
    "#In this code snippet, \n",
    " #we declare a variable X and assign it the value of 100.\n",
    "    \n",
    "#The next line of code type(X) is used to determine the type of X. \n",
    " #In this case, X is an integer, so running this line of code will output <class 'int'>.\n",
    "\n",
    "#The type() function is a built-in Python function that returns the type of the object passed to it.\n",
    "\n",
    "#In this case, we passed the variable X to the type() function, \n",
    " #and it returned the type of X, which is int.\n",
    "\n",
    "#This code is a simple example of how to use Python variables and the type() function to determine the type of a variable.\n",
    "\n",
    "#By assigning a value to a variable, we can store data in memory and manipulate it in our code.\n",
    "\n",
    "#The type() function is a useful tool for debugging and verifying the type of data in our code.\n",
    "\n",
    "\n",
    "X = 200\n",
    "type(X)"
   ]
  },
  {
   "cell_type": "code",
   "execution_count": 3,
   "id": "28dd917d",
   "metadata": {},
   "outputs": [
    {
     "data": {
      "text/plain": [
       "int"
      ]
     },
     "execution_count": 3,
     "metadata": {},
     "output_type": "execute_result"
    }
   ],
   "source": [
    "#We declare a variable X and assign it the result of the arithmetic operation 648*789. \n",
    " #When this line of code is executed, Python multiplies 648 and 789, and assigns the result to X. \n",
    "   #In this case, X has a value of 512472.\n",
    "\n",
    "#The next line of code type(X) is used to determine the type of X. In this case, X is an integer, \n",
    " #so running this line of code will output <class 'int'>.\n",
    "\n",
    "#The type() function is a built-in Python function that returns the type of the object passed to it. In this case, \n",
    " #we passed the variable X to the type() function, and it returned the type of X, which is int.\n",
    "\n",
    "\n",
    "X = 648*789\n",
    "type(X)"
   ]
  },
  {
   "cell_type": "code",
   "execution_count": 4,
   "id": "74e2586e",
   "metadata": {},
   "outputs": [
    {
     "name": "stdout",
     "output_type": "stream",
     "text": [
      "511272\n"
     ]
    }
   ],
   "source": [
    "#We declare a variable X and assign it the result of the arithmetic operation 648*789. When this line of code is executed, \n",
    " #Python multiplies 648 and 789, and assigns the result to X. In this case, X has a value of 512472.\n",
    "\n",
    "#The print() function is then used to output the value of X to the console. When this line of code is executed, \n",
    " #Python prints the value of X to the console, which in this case is 512472.\n",
    "\n",
    "\n",
    "X = 648*789\n",
    "print(X)"
   ]
  },
  {
   "cell_type": "code",
   "execution_count": 5,
   "id": "35372c11",
   "metadata": {},
   "outputs": [
    {
     "data": {
      "text/plain": [
       "float"
      ]
     },
     "execution_count": 5,
     "metadata": {},
     "output_type": "execute_result"
    }
   ],
   "source": [
    "#we declare a variable X and assign it the value 3.254. This value is a decimal or a floating-point number. \n",
    " #When this line of code is executed, Python assigns the value 3.254 to X.\n",
    "\n",
    "#The next line of code type(X) is used to determine the type of X. In this case, X is a floating-point number, \n",
    " #so running this line of code will output <class 'float'>.\n",
    "\n",
    "#The type() function is a built-in Python function that returns the type of the object passed to it. \n",
    " #In this case, we passed the variable X to the type() function, and it returned the type of X, which is float.\n",
    "\n",
    "\n",
    "X = 3.254\n",
    "type(X)"
   ]
  },
  {
   "cell_type": "code",
   "execution_count": 6,
   "id": "e5b94cd9",
   "metadata": {},
   "outputs": [
    {
     "name": "stdout",
     "output_type": "stream",
     "text": [
      "Python\n"
     ]
    }
   ],
   "source": [
    "#We declare a variable X and assign it the string value \"Python\". \n",
    " #The print() function is then used to output the value of X to the console. When this line of code is executed, \n",
    "   #the string \"Python\" will be printed to the console.\n",
    "\n",
    "#In Python, we can use single or double quotes to create string literals. In this case, we used double quotes, \n",
    " #but single quotes would also work. The print() function is a built-in Python function that outputs data to the console. \n",
    "   #When we pass the variable X as an argument to print(), it will output the value of X to the console.\n",
    "\n",
    "\n",
    "X = \"Python\"\n",
    "print(X)"
   ]
  },
  {
   "cell_type": "code",
   "execution_count": 7,
   "id": "97e27e6a",
   "metadata": {},
   "outputs": [
    {
     "name": "stdout",
     "output_type": "stream",
     "text": [
      "Python\n"
     ]
    }
   ],
   "source": [
    "#In the first line of code, we declare a variable X and assign it a string value of \"Python\" using double quotes. \n",
    " #Double quotes and single quotes are both used to declare string literals in Python, \n",
    "    #and in this case, the string is enclosed in double quotes.\n",
    "\n",
    "#In the second line of code, we declare a variable X and assign it a string value of \"Python\" using single quotes. \n",
    " #Again, single quotes and double quotes can be used interchangeably to declare strings in Python.\n",
    "\n",
    "#The third line of code print(X) is used to print the value of X to the console. \n",
    " #Since the value of X is the same in both lines of code, \n",
    "    #running this line of code after either line will output the string \"Python\".\n",
    "\n",
    "#The type(X) function is used in the first line of code to determine the type of X. In this case, X is a string, \n",
    " #so running this line of code will output <class 'str'>.\n",
    "\n",
    "#The main difference between the two lines of code is the type of quotes used to enclose the string value. \n",
    " #While both double quotes and single quotes can be used to declare strings in Python, \n",
    "    #it's important to be consistent in your usage throughout your code.\n",
    "\n",
    "\n",
    "X = 'Python'\n",
    "print(X)"
   ]
  },
  {
   "cell_type": "code",
   "execution_count": 8,
   "id": "4250f720",
   "metadata": {},
   "outputs": [
    {
     "data": {
      "text/plain": [
       "str"
      ]
     },
     "execution_count": 8,
     "metadata": {},
     "output_type": "execute_result"
    }
   ],
   "source": [
    "#We declare a variable X and assign it a string value of \"Python\". When this line of code is executed, \n",
    " #Python creates a string object with the value \"Python\", and assigns it to the variable X.\n",
    "\n",
    "#The next line of code type(X) is used to determine the type of X. In this case, X is a string, \n",
    " #so running this line of code will output <class 'str'>.\n",
    "\n",
    "\n",
    "X = \"Python\"\n",
    "type(X)"
   ]
  },
  {
   "cell_type": "code",
   "execution_count": 9,
   "id": "115a4ffe",
   "metadata": {},
   "outputs": [],
   "source": [
    "#A tuple is an immutable series of components that is ordered in Python.\n",
    " #This implies that a tuple's contents cannot be modified once it has been constructed. \n",
    "    #Tuples can include items of any data type, including other tuples, and are denoted by parenthesis ().\n",
    "\n",
    "#IN THAT THEY MAY HOLD NUMEROUS ELEMENTS, TUPLES AND LISTS ARE SIMILAR, BUT THERE ARE A FEW KEY DISTINCTIONS:\n",
    "\n",
    "#Tuples are immutable, whereas lists are changeable, meaning that their contents can be altered after they are generated.\n",
    "\n",
    "#Square brackets [] are used to denote lists, and parentheses are used to denote tuples ().\n",
    "\n",
    "#Tuples are used when we need to keep a collection of objects that shouldn't be modified after they are generated, \n",
    " #while lists are often used when we need to store a collection of items that can be modified over time.\n",
    "\n",
    "#Ultimately, \n",
    " #Python tuples can be a valuable tool for storing collections of data that shouldn't be modified after they are produced. \n",
    "   #Writing efficient Python code requires a grasp of the distinctions between tuples and lists."
   ]
  },
  {
   "cell_type": "code",
   "execution_count": 10,
   "id": "7abdb072",
   "metadata": {},
   "outputs": [],
   "source": [
    "#LIST"
   ]
  },
  {
   "cell_type": "code",
   "execution_count": 11,
   "id": "d1049723",
   "metadata": {},
   "outputs": [],
   "source": [
    "#A list is a type of data structure in Python that lets you store a group of elements. It is a changeable object, \n",
    " #so after you construct the list, you can change, add, or remove elements. \n",
    "    #Lists are made by enclosing the elements in square brackets [] and using commas to separate them."
   ]
  },
  {
   "cell_type": "code",
   "execution_count": 12,
   "id": "e6d414d9",
   "metadata": {},
   "outputs": [
    {
     "name": "stdout",
     "output_type": "stream",
     "text": [
      "[18, 58, 48]\n"
     ]
    }
   ],
   "source": [
    "#X is a variable that is declared, and we give it a list of three integer values, \n",
    " #namely 18, 58, and 48. The list is defined by the square brackets [], and commas are used to separate the values.\n",
    "\n",
    "#The contents of X are then written to the console using the print() function. \n",
    " #Python will show the list [18, 58, 48] in the console when this line of code is executed.\n",
    "\n",
    "#One of the most used data structures in Python is the list. \n",
    " #They are employed to keep an assortment of values that can be accessed and changed in different ways.\n",
    "\n",
    "X = [18,58,48]\n",
    "print(X)"
   ]
  },
  {
   "cell_type": "code",
   "execution_count": 13,
   "id": "6d502f4c",
   "metadata": {},
   "outputs": [
    {
     "data": {
      "text/plain": [
       "list"
      ]
     },
     "execution_count": 13,
     "metadata": {},
     "output_type": "execute_result"
    }
   ],
   "source": [
    "#we declare a variable called X and give it a list of the three integer numbers 18, 58, and 48. \n",
    " #An ordered group of variables is referred to as a list in Python.\n",
    "\n",
    "#To find out what type of X it is, use the type(X) command in the following line of code. \n",
    " #The output of this piece of code, since X in this case is a list, is class 'list'>.\n",
    "\n",
    "#The type of the object it was supplied as a parameter is returned by the built-in Python method type(). \n",
    " #In this instance, we used the type() method and supplied the variable X. Its type, which is list, was returned.\n",
    "\n",
    "\n",
    "X = [18,58,48]\n",
    "type(X)"
   ]
  },
  {
   "cell_type": "code",
   "execution_count": 14,
   "id": "772b4e7f",
   "metadata": {},
   "outputs": [
    {
     "name": "stdout",
     "output_type": "stream",
     "text": [
      "18\n"
     ]
    }
   ],
   "source": [
    "#Declaring the variable X, we give it a list with the elements 18, 58, and 48 in it. \n",
    " #The elements in the list are separated by commas and are enclosed in square brackets []. \n",
    "    #Because it solely contains numbers, this kind of list is known as a numeric list.\n",
    "\n",
    "#The first entry of the list X, which has an index of 0, is accessed in the following line of code print(X[0]). \n",
    " #The first element of the list has an index of 0, the second element has an index of 1, \n",
    "    #and so on since list indices in Python start at 0. With the print() function, \n",
    "       #we can output the value of the list's first element's index to the console.\n",
    "\n",
    "#In this instance, since 18 is the value of the list's first member, running this line of code will output 18 to the console.\n",
    "\n",
    "\n",
    "X = [18,58,48]\n",
    "print(X[0])"
   ]
  },
  {
   "cell_type": "code",
   "execution_count": 15,
   "id": "16999b3e",
   "metadata": {},
   "outputs": [
    {
     "name": "stdout",
     "output_type": "stream",
     "text": [
      "48\n"
     ]
    }
   ],
   "source": [
    "#we create the list variable X and give it the array of numbers [18, 58, 48]. \n",
    " #Python lists are used to hold collections of objects, \n",
    "    #including texts, numbers, and other types of data.\n",
    "\n",
    "#The third item in the list X, which has an index of 2, is printed in the next line of code, print(X[2]). \n",
    " #The first item in the list has an index of 0 since list indexing in Python starts at 0, the second item has an index of 1, \n",
    "    #and so on. We use an index of 2 because we want to publish the third item in the list.\n",
    "\n",
    "#The value 48 is reported to the console when this line of code is run.\n",
    "\n",
    "X = [18,58,48]\n",
    "print(X[2])"
   ]
  },
  {
   "cell_type": "code",
   "execution_count": 16,
   "id": "cfd34e87",
   "metadata": {},
   "outputs": [
    {
     "name": "stdout",
     "output_type": "stream",
     "text": [
      "[18, 20, 48]\n"
     ]
    }
   ],
   "source": [
    "#Three integer values—18, 58, and 48—are created in the list X by this code. \n",
    " #The values for the list are enclosed in square brackets and separated by commas.\n",
    "\n",
    "#X[1] = 20 is the next line of code. the list's second member (located at index 1) now has the value 20. \n",
    " #The second entry of the list has an index of 1, since list indices in Python begin at 0.\n",
    "\n",
    "#Once the update has been made, the list's contents are shown using the print(X) function. The result will reveal that, \n",
    " #although the other elements stay unchanged, the second element (located at index 1) has changed from 58 to 20.\n",
    "\n",
    "#This code shows how to construct a list in Python, access and alter list elements, \n",
    " #and display the list's contents using the print() function.\n",
    "\n",
    "\n",
    "X = [18,58,48]\n",
    "X[1] = 20\n",
    "print(X)"
   ]
  },
  {
   "cell_type": "code",
   "execution_count": 17,
   "id": "82e010fa",
   "metadata": {},
   "outputs": [],
   "source": [
    "#TUPLE"
   ]
  },
  {
   "cell_type": "code",
   "execution_count": 18,
   "id": "e8dc7bce",
   "metadata": {},
   "outputs": [],
   "source": [
    "#A tuple is an immutable series of components that is ordered in Python. \n",
    " #This implies that a tuple's contents cannot be modified once it has been constructed. \n",
    "    #Tuples can include items of any data type, including other tuples, and are denoted by parenthesis ().\n",
    "\n",
    "#Tuples are more effective than lists at storing and accessing elements, which is one of their key advantages. \n",
    " #This is because lists are stored in a fragmented block of memory that must be resized when elements are added or removed, \n",
    "    #whereas tuples are maintained in a contiguous block of memory.\n",
    "\n",
    "#IN THAT THEY MAY HOLD NUMEROUS ELEMENTS, TUPLES AND LISTS ARE SIMILAR, BUT THERE ARE A FEW KEY DISTINCTIONS:\n",
    "\n",
    "#Tuples are immutable, whereas lists are changeable, meaning that their contents can be altered after they are generated.\n",
    "\n",
    "#Square brackets [] are used to denote lists, and parentheses are used to denote tuples ().\n",
    "\n",
    "#Tuples are used when we need to keep a collection of objects that shouldn't be modified after they are generated, \n",
    " #while lists are often used when we need to store a collection of items that can be modified over time.\n",
    "\n",
    "#Overall, Python's tuples feature can be beneficial for storing data sets that shouldn't be altered once they are produced."
   ]
  },
  {
   "cell_type": "code",
   "execution_count": 19,
   "id": "86d2121a",
   "metadata": {},
   "outputs": [
    {
     "name": "stdout",
     "output_type": "stream",
     "text": [
      "(2, 5, 8, 6)\n"
     ]
    }
   ],
   "source": [
    "#Declaring a variable called X, we assign it a tuple consisting of the numbers 2, 5, 8, and 6. \n",
    " #A Python data structure called a tuple allows many values of various types to be stored in a single variable. \n",
    "    #Tuples are immutable, thus once their values have been assigned, they cannot be modified.\n",
    "\n",
    "#The contents of X are sent to the console using the next line of code, print(X). \n",
    " #Python will output (2, 5, 8, 6) to the console when this line of code is run.\n",
    "\n",
    "#This example explains how to use tuples in Python \n",
    " #to store many values in a single variable by defining a variable and assigning it a tuple of values. \n",
    "    #The tuple's contents are shown on the console using the print() function.\n",
    "\n",
    "\n",
    "X = (2,5,8,6)\n",
    "print(X)"
   ]
  },
  {
   "cell_type": "code",
   "execution_count": 20,
   "id": "dea1b9cc",
   "metadata": {},
   "outputs": [
    {
     "data": {
      "text/plain": [
       "tuple"
      ]
     },
     "execution_count": 20,
     "metadata": {},
     "output_type": "execute_result"
    }
   ],
   "source": [
    "#X is a variable that we define, and we give it a tuple of four components (2,5,8,6). \n",
    " #A tuple is an immutable collection of ordered components that is similar to a list \n",
    "    #in that its elements cannot be modified after it has been constructed.\n",
    "\n",
    "#The type of X is determined by the next line of code, type(X). \n",
    " #Python executes this line of code and returns the type of X, which is class 'tuple'>.\n",
    "\n",
    "#The type of the object provided to the built-in Python type() method is returned. \n",
    " #In this instance, the type() method took the variable X as a parameter and returned the tuple type.\n",
    "\n",
    "X = (2,5,8,6)\n",
    "type(X)"
   ]
  },
  {
   "cell_type": "code",
   "execution_count": 21,
   "id": "dabd30f7",
   "metadata": {},
   "outputs": [
    {
     "name": "stdout",
     "output_type": "stream",
     "text": [
      "8\n"
     ]
    }
   ],
   "source": [
    "#we create a variable called X and assign a tuple to it (2, 5, 8, 6). Similar to a list in Python, \n",
    " #a tuple is an ordered collection of things that cannot be changed after it has been generated.\n",
    "\n",
    "#The code that follows The third element of the tuple is produced by the print() function using the syntax print(X[2]). \n",
    " #As indexes in Python begin at 0, X[2] refers to the tuple's third component, which has the value 8. As a result, \n",
    "    #when this line of code is executed, 8 is produced.\n",
    "\n",
    "#This example shows how to generate a tuple in Python and how to use index notation to access the items in the tuple. \n",
    " #We can print the value of a particular item in the tuple to the console by using the print() function.\n",
    "\n",
    "\n",
    "X = X = (2,5,8,6)\n",
    "print(X[2])"
   ]
  },
  {
   "cell_type": "code",
   "execution_count": 22,
   "id": "14479141",
   "metadata": {},
   "outputs": [
    {
     "ename": "TypeError",
     "evalue": "'tuple' object does not support item assignment",
     "output_type": "error",
     "traceback": [
      "\u001b[1;31m---------------------------------------------------------------------------\u001b[0m",
      "\u001b[1;31mTypeError\u001b[0m                                 Traceback (most recent call last)",
      "\u001b[1;32m~\\AppData\\Local\\Temp\\ipykernel_6228\\2993041288.py\u001b[0m in \u001b[0;36m<module>\u001b[1;34m\u001b[0m\n\u001b[0;32m     15\u001b[0m \u001b[1;33m\u001b[0m\u001b[0m\n\u001b[0;32m     16\u001b[0m \u001b[0mX\u001b[0m \u001b[1;33m=\u001b[0m \u001b[0mX\u001b[0m \u001b[1;33m=\u001b[0m \u001b[1;33m(\u001b[0m\u001b[1;36m2\u001b[0m\u001b[1;33m,\u001b[0m\u001b[1;36m5\u001b[0m\u001b[1;33m,\u001b[0m\u001b[1;36m8\u001b[0m\u001b[1;33m,\u001b[0m\u001b[1;36m6\u001b[0m\u001b[1;33m)\u001b[0m\u001b[1;33m\u001b[0m\u001b[1;33m\u001b[0m\u001b[0m\n\u001b[1;32m---> 17\u001b[1;33m \u001b[0mX\u001b[0m\u001b[1;33m[\u001b[0m\u001b[1;36m1\u001b[0m\u001b[1;33m]\u001b[0m \u001b[1;33m=\u001b[0m \u001b[1;36m20\u001b[0m\u001b[1;33m\u001b[0m\u001b[1;33m\u001b[0m\u001b[0m\n\u001b[0m\u001b[0;32m     18\u001b[0m \u001b[0mprint\u001b[0m\u001b[1;33m(\u001b[0m\u001b[0mX\u001b[0m\u001b[1;33m)\u001b[0m\u001b[1;33m\u001b[0m\u001b[1;33m\u001b[0m\u001b[0m\n",
      "\u001b[1;31mTypeError\u001b[0m: 'tuple' object does not support item assignment"
     ]
    }
   ],
   "source": [
    "#we create a variable called X and assign a tuple to it (2, 5, 8, 6). A tuple is an ordered group of objects that, \n",
    " #as was previously noted, cannot be changed after it has been constructed.\n",
    "\n",
    "#The second item in the tuple is modified to a new value of 20 in the next line of code, X[1] = 20. \n",
    " #The operation will fail with a TypeError \n",
    "    #and a warning stating that the \"tuple\" object does not support item assignment since tuples are immutable in Python.\n",
    "\n",
    "#Print(X) tries to send the changed tuple to the console in the final step. This line of code won't run, though, \n",
    " #because the previous one raised an error.\n",
    "\n",
    "#This example demonstrates how Python handles immutable data structures like tuples, \n",
    " #and how attempting to modify them can lead to errors. \n",
    "    #It also shows how Python's error messages can provide helpful information in diagnosing the source of the problem.\n",
    "\n",
    "\n",
    "X = X = (2,5,8,6)\n",
    "X[1] = 20\n",
    "print(X)"
   ]
  },
  {
   "cell_type": "code",
   "execution_count": 23,
   "id": "309ba904",
   "metadata": {},
   "outputs": [
    {
     "name": "stdout",
     "output_type": "stream",
     "text": [
      "4\n",
      "5\n",
      "7\n"
     ]
    }
   ],
   "source": [
    "#This program uses tuple unpacking to assign the values 4, 5, and 7 to the variables x, y, and z, respectively. \n",
    " #The values of x, y, and z are then printed; they are 4, 5, and 7 respectively.\n",
    "\n",
    "#When working with functions that return multiple values or when working with tuples in general, \n",
    " #this example shows how to use tuple unpacking to assign multiple variables in a single line of code. \n",
    "    #Additionally, it demonstrates how to write a code block that prints multiple variables.\n",
    "\n",
    "\n",
    "(x,y,z) = 4,5,7\n",
    "print(x)\n",
    "print(y)\n",
    "print(z)"
   ]
  },
  {
   "cell_type": "code",
   "execution_count": 24,
   "id": "5e9bcdd6",
   "metadata": {},
   "outputs": [
    {
     "name": "stdout",
     "output_type": "stream",
     "text": [
      "4 5 7\n"
     ]
    }
   ],
   "source": [
    "#Print(x,y,z) and (x,y,z) = 4,5,7 both use the Python tuple unpacking syntax, but their functions are distinct from one another.\n",
    "\n",
    "#The first line of code uses tuple unpacking to give the variables x, y, and z, respectively, the values 4, 5, and 7. \n",
    " #This is a quick way to give different values to various variables on the same line. \n",
    "    #The values are assigned to the variables in the tuple's order of appearance.\n",
    "\n",
    "#The values of the variables x, y, and z are printed on the same line and are separated by spaces in the second code, \n",
    " #print(x,y,z). This eliminates the need to print each variable's value on a separate line \n",
    "    #and allows the values of multiple variables to be displayed simultaneously.\n",
    "\n",
    "#The primary distinction between the two code snippets is in the way they accomplish their goals: \n",
    " #the first assigns values to variables, while the second prints those values to the console.\n",
    "\n",
    "\n",
    "\n",
    "(x,y,z) = 4,5,7\n",
    "print(x,y,z)"
   ]
  },
  {
   "cell_type": "code",
   "execution_count": 25,
   "id": "a7f6b492",
   "metadata": {},
   "outputs": [
    {
     "ename": "ValueError",
     "evalue": "too many values to unpack (expected 2)",
     "output_type": "error",
     "traceback": [
      "\u001b[1;31m---------------------------------------------------------------------------\u001b[0m",
      "\u001b[1;31mValueError\u001b[0m                                Traceback (most recent call last)",
      "\u001b[1;32m~\\AppData\\Local\\Temp\\ipykernel_6228\\3797747389.py\u001b[0m in \u001b[0;36m<module>\u001b[1;34m\u001b[0m\n\u001b[0;32m     15\u001b[0m \u001b[1;33m\u001b[0m\u001b[0m\n\u001b[0;32m     16\u001b[0m \u001b[1;33m\u001b[0m\u001b[0m\n\u001b[1;32m---> 17\u001b[1;33m \u001b[1;33m(\u001b[0m\u001b[0mx\u001b[0m\u001b[1;33m,\u001b[0m\u001b[0my\u001b[0m\u001b[1;33m)\u001b[0m \u001b[1;33m=\u001b[0m \u001b[1;36m4\u001b[0m\u001b[1;33m,\u001b[0m\u001b[1;36m5\u001b[0m\u001b[1;33m,\u001b[0m\u001b[1;36m7\u001b[0m\u001b[1;33m\u001b[0m\u001b[1;33m\u001b[0m\u001b[0m\n\u001b[0m",
      "\u001b[1;31mValueError\u001b[0m: too many values to unpack (expected 2)"
     ]
    }
   ],
   "source": [
    "#Because the number of values on the right side of the equal sign (3) does not match the number of variables on the left side, \n",
    " #the code (x,y) = 4,5,7 will produce a ValueError (2).\n",
    "\n",
    "#The number of values and variables must coincide in order to assign values to multiple variables in a single line. \n",
    " #For instance, (x, Y, Z) = 4,5,7 gives the values 4 to X, Y, and Z, respectively.\n",
    "\n",
    "#With commas separating the values, \n",
    " #multiple variables in Python can have their values set simultaneously using a single line of code. \n",
    "    #There are three values (4, 5, 7) in the code (x,y) = 4,5,7, but there are only two variables (x and y) to assign them to. \n",
    "       #The ValueError is the outcome of this.\n",
    "\n",
    "#In conclusion, the code (x,y) = 4,5,7 will produce an error because the number of variables on the left side \n",
    " #and the number of values on the right side of the equal sign do not match. \n",
    "    #The proper way to assign values to multiple variables in Python is to use the same number of variables and values separated by commas.\n",
    "\n",
    "\n",
    "(x,y) = 4,5,7"
   ]
  },
  {
   "cell_type": "code",
   "execution_count": 26,
   "id": "8441933a",
   "metadata": {},
   "outputs": [
    {
     "name": "stdout",
     "output_type": "stream",
     "text": [
      "2 2 2\n",
      "1 1 1\n"
     ]
    }
   ],
   "source": [
    "(x,y,z) = 2,2,2\n",
    "print(x,y,z)\n",
    "\n",
    "\n",
    "#Tuple unpacking is used in the code (x,y,z) = 2,2,2 to assign the values 2,2,2 to the variables x, y, and z, respectively. \n",
    " #Then, using print, we are printing these variables (x,y,z). The result will be 2 2 2.\n",
    "\n",
    "#All three variables, x, y, and z, are given the value 1 in a single line of code, x = y = z = 1. \n",
    " #When multiple variables are assigned the same value in a single statement, this is referred to as chained assignment. \n",
    "    #Then, using print, we are printing these variables (x,y,z). The result will be 1 1 1.\n",
    "\n",
    "#The way the variables are assigned values thus represents the primary distinction. \n",
    " #While chained assignment is used in the second code to assign values, \n",
    "    #tuple unpacking is used to assign values in the first code.\n",
    "\n",
    "\n",
    "x = y = z = 1\n",
    "print(x,y,z)"
   ]
  },
  {
   "cell_type": "code",
   "execution_count": 27,
   "id": "aed8c756",
   "metadata": {},
   "outputs": [],
   "source": [
    "#Requirements for variable naming."
   ]
  },
  {
   "cell_type": "code",
   "execution_count": 28,
   "id": "abde6302",
   "metadata": {},
   "outputs": [],
   "source": [
    "#WRITING READABLE AND MAINTAINABLE CODE IN PYTHON REQUIRES PROPER VARIABLE NAMING. VARIABLE NAMING TYPICALLY ADHERES TO THE FOLLOWING RULES:\n",
    "\n",
    "#Variables ought to have a letter or an underscore at the beginning.\n",
    "\n",
    "#Variables ought to have a letter or an underscore at the beginning.\n",
    "\n",
    "#Letters, numbers, and underscores are all permitted in variable names.\n",
    "\n",
    "#Letters, numbers, and underscores are all permitted in variable names.\n",
    "\n",
    "#Name and Name are two different variables because variable names are case-sensitive.\n",
    "\n",
    "#Name and Name are two different variables because variable names are case-sensitive.\n",
    "\n",
    "#To make the purpose of a variable clear to other programmers, variables should have descriptive and meaningful names.\n",
    "\n",
    "#As variable names, stay away from using reserved words. For instance, in Python, reserved words like if, else, while, for, etc.\n",
    " #cannot be used as variable names.\n",
    "\n",
    "#In most cases, variable names should be written in lowercase. For constants, capitalize all letters (values that do not change).\n",
    "\n",
    "#Use underscores to divide words in a variable name that has multiple words. First name or my variable name, for instance.\n",
    "\n",
    "#THESE RECOMMENDATIONS WILL MAKE YOUR CODE EASIER TO READ AND COMPREHEND FOR OTHER PROGRAMMERS, \n",
    " #WHICH IS CRUCIAL FOR TEAM PROJECTS AND LONG-TERM CODE MAINTENANCE."
   ]
  },
  {
   "cell_type": "code",
   "execution_count": 29,
   "id": "004edf0d",
   "metadata": {},
   "outputs": [],
   "source": [
    "#Principle 1.\n",
    "#Names of variables must start with an alphabet character or an underscore ( ).\n",
    "#Like abc and _abc rather than 5abc and %abc."
   ]
  },
  {
   "cell_type": "code",
   "execution_count": 30,
   "id": "08d8a44a",
   "metadata": {},
   "outputs": [
    {
     "name": "stdout",
     "output_type": "stream",
     "text": [
      "234\n"
     ]
    }
   ],
   "source": [
    "abc = 234\n",
    "print(abc)"
   ]
  },
  {
   "cell_type": "code",
   "execution_count": 31,
   "id": "7c43f4b0",
   "metadata": {},
   "outputs": [
    {
     "name": "stdout",
     "output_type": "stream",
     "text": [
      "234\n"
     ]
    }
   ],
   "source": [
    "_abc = 234\n",
    "print(_abc)"
   ]
  },
  {
   "cell_type": "code",
   "execution_count": 32,
   "id": "56e5a58a",
   "metadata": {},
   "outputs": [
    {
     "ename": "SyntaxError",
     "evalue": "invalid syntax (1305303204.py, line 1)",
     "output_type": "error",
     "traceback": [
      "\u001b[1;36m  File \u001b[1;32m\"C:\\Users\\gunap\\AppData\\Local\\Temp\\ipykernel_6228\\1305303204.py\"\u001b[1;36m, line \u001b[1;32m1\u001b[0m\n\u001b[1;33m    7abc = 234\u001b[0m\n\u001b[1;37m     ^\u001b[0m\n\u001b[1;31mSyntaxError\u001b[0m\u001b[1;31m:\u001b[0m invalid syntax\n"
     ]
    }
   ],
   "source": [
    "7abc = 234\n",
    "print(7abc)"
   ]
  },
  {
   "cell_type": "code",
   "execution_count": 33,
   "id": "e58621cd",
   "metadata": {},
   "outputs": [
    {
     "ename": "SyntaxError",
     "evalue": "invalid syntax (1793590979.py, line 1)",
     "output_type": "error",
     "traceback": [
      "\u001b[1;36m  File \u001b[1;32m\"C:\\Users\\gunap\\AppData\\Local\\Temp\\ipykernel_6228\\1793590979.py\"\u001b[1;36m, line \u001b[1;32m1\u001b[0m\n\u001b[1;33m    &abc = 234\u001b[0m\n\u001b[1;37m    ^\u001b[0m\n\u001b[1;31mSyntaxError\u001b[0m\u001b[1;31m:\u001b[0m invalid syntax\n"
     ]
    }
   ],
   "source": [
    "&abc = 234\n",
    "print(&abc)"
   ]
  },
  {
   "cell_type": "code",
   "execution_count": 34,
   "id": "34a59032",
   "metadata": {},
   "outputs": [],
   "source": [
    "#Principle 2.\n",
    "#Alphabets, numerals, or an underscore can come after the first character.\n",
    "#Like a102 and a342, not a589 and xyz-4."
   ]
  },
  {
   "cell_type": "code",
   "execution_count": 35,
   "id": "3c5c5178",
   "metadata": {},
   "outputs": [
    {
     "name": "stdout",
     "output_type": "stream",
     "text": [
      "75\n"
     ]
    }
   ],
   "source": [
    "a102 = 75\n",
    "print(a102)"
   ]
  },
  {
   "cell_type": "code",
   "execution_count": 36,
   "id": "db0450d3",
   "metadata": {},
   "outputs": [
    {
     "name": "stdout",
     "output_type": "stream",
     "text": [
      "75\n"
     ]
    }
   ],
   "source": [
    "_a342_ = 75\n",
    "print(_a342_)"
   ]
  },
  {
   "cell_type": "code",
   "execution_count": 37,
   "id": "cbbd9396",
   "metadata": {},
   "outputs": [
    {
     "ename": "SyntaxError",
     "evalue": "invalid syntax (2465945915.py, line 1)",
     "output_type": "error",
     "traceback": [
      "\u001b[1;36m  File \u001b[1;32m\"C:\\Users\\gunap\\AppData\\Local\\Temp\\ipykernel_6228\\2465945915.py\"\u001b[1;36m, line \u001b[1;32m1\u001b[0m\n\u001b[1;33m    a589$ = 75\u001b[0m\n\u001b[1;37m        ^\u001b[0m\n\u001b[1;31mSyntaxError\u001b[0m\u001b[1;31m:\u001b[0m invalid syntax\n"
     ]
    }
   ],
   "source": [
    "a589$ = 75\n",
    "print(a589$)"
   ]
  },
  {
   "cell_type": "code",
   "execution_count": 38,
   "id": "2185f293",
   "metadata": {},
   "outputs": [
    {
     "ename": "SyntaxError",
     "evalue": "cannot assign to operator (1300602142.py, line 1)",
     "output_type": "error",
     "traceback": [
      "\u001b[1;36m  File \u001b[1;32m\"C:\\Users\\gunap\\AppData\\Local\\Temp\\ipykernel_6228\\1300602142.py\"\u001b[1;36m, line \u001b[1;32m1\u001b[0m\n\u001b[1;33m    xyz-4 = 75\u001b[0m\n\u001b[1;37m    ^\u001b[0m\n\u001b[1;31mSyntaxError\u001b[0m\u001b[1;31m:\u001b[0m cannot assign to operator\n"
     ]
    }
   ],
   "source": [
    "xyz-4 = 75\n",
    "print(xyz-4)"
   ]
  },
  {
   "cell_type": "code",
   "execution_count": 39,
   "id": "d0863709",
   "metadata": {},
   "outputs": [],
   "source": [
    "#Principle 3.\n",
    "#Names of variables are case sensitive.\n",
    "#A250 is not the same as #a250."
   ]
  },
  {
   "cell_type": "code",
   "execution_count": 40,
   "id": "13a7096f",
   "metadata": {},
   "outputs": [
    {
     "name": "stdout",
     "output_type": "stream",
     "text": [
      "34\n",
      "56\n"
     ]
    }
   ],
   "source": [
    "a250 = 34\n",
    "A250 = 56\n",
    "print(a250)\n",
    "print(A250)"
   ]
  },
  {
   "cell_type": "code",
   "execution_count": 41,
   "id": "e8e800ff",
   "metadata": {},
   "outputs": [
    {
     "name": "stdout",
     "output_type": "stream",
     "text": [
      "34 78 56\n"
     ]
    }
   ],
   "source": [
    "a250 = 34\n",
    "A250 = 56\n",
    "b250 = 78\n",
    "print(a250, b250, A250)"
   ]
  },
  {
   "cell_type": "code",
   "execution_count": 42,
   "id": "c03bd709",
   "metadata": {},
   "outputs": [
    {
     "name": "stdout",
     "output_type": "stream",
     "text": [
      "34 56 78\n"
     ]
    }
   ],
   "source": [
    "a250 = 34\n",
    "A250 = 56\n",
    "b250 = 78\n",
    "print(a250, A250, b250)"
   ]
  },
  {
   "cell_type": "code",
   "execution_count": 43,
   "id": "e7a01898",
   "metadata": {},
   "outputs": [],
   "source": [
    "#Principle 4.\n",
    "#Reserved terms, such as break, class, try, and all others, cannot be used as variable names."
   ]
  },
  {
   "cell_type": "code",
   "execution_count": 44,
   "id": "a686bbb3",
   "metadata": {},
   "outputs": [
    {
     "ename": "SyntaxError",
     "evalue": "invalid syntax (2061180873.py, line 1)",
     "output_type": "error",
     "traceback": [
      "\u001b[1;36m  File \u001b[1;32m\"C:\\Users\\gunap\\AppData\\Local\\Temp\\ipykernel_6228\\2061180873.py\"\u001b[1;36m, line \u001b[1;32m1\u001b[0m\n\u001b[1;33m    break = 56\u001b[0m\n\u001b[1;37m          ^\u001b[0m\n\u001b[1;31mSyntaxError\u001b[0m\u001b[1;31m:\u001b[0m invalid syntax\n"
     ]
    }
   ],
   "source": [
    "break = 56\n",
    "print(break)"
   ]
  },
  {
   "cell_type": "code",
   "execution_count": 45,
   "id": "6e417a9f",
   "metadata": {},
   "outputs": [
    {
     "ename": "SyntaxError",
     "evalue": "invalid syntax (3468253508.py, line 1)",
     "output_type": "error",
     "traceback": [
      "\u001b[1;36m  File \u001b[1;32m\"C:\\Users\\gunap\\AppData\\Local\\Temp\\ipykernel_6228\\3468253508.py\"\u001b[1;36m, line \u001b[1;32m1\u001b[0m\n\u001b[1;33m    try = 56\u001b[0m\n\u001b[1;37m        ^\u001b[0m\n\u001b[1;31mSyntaxError\u001b[0m\u001b[1;31m:\u001b[0m invalid syntax\n"
     ]
    }
   ],
   "source": [
    "try = 56\n",
    "type(try)"
   ]
  },
  {
   "cell_type": "code",
   "execution_count": 46,
   "id": "c308e454",
   "metadata": {},
   "outputs": [],
   "source": [
    "#35 RESERVED KEYWORDS IN PYTHON HAVE PREDETERMINED MEANINGS AND ARE NOT PERMITTED TO BE USED AS VARIABLE NAMES OR IDENTIFIERS. \n",
    " #THE COMPLETE LIST OF PYTHON'S RESERVED KEYWORDS IS PROVIDED BELOW:\n",
    "\n",
    "#False, None, True, and, as, assert, async, await, break, class, continue, def, del, elif, else, except, finally, for, from, \n",
    " #global, if, import, in, is, lambda, nonlocal, not, or, pass, raise, return, try, while, with, yield.\n"
   ]
  },
  {
   "cell_type": "code",
   "execution_count": 47,
   "id": "d2d43334",
   "metadata": {},
   "outputs": [],
   "source": [
    "#Arithmetic Operators"
   ]
  },
  {
   "cell_type": "code",
   "execution_count": 48,
   "id": "d4d8fff4",
   "metadata": {},
   "outputs": [],
   "source": [
    "#ONE OF THE FUNDAMENTAL IDEAS IN PROGRAMMING IS THE CONCEPT OF ARITHMETIC OPERATIONS. \n",
    " #TO PERFORM ARITHMETIC OPERATIONS ON NUMERIC DATA TYPES, PYTHON OFFERS A VARIETY OF ARITHMETIC OPERATORS. \n",
    "    #THE ARITHMETIC OPERATORS IN PYTHON ARE AS FOLLOWS:\n",
    "    \n",
    "#+: Adds two operands in addition.\n",
    "\n",
    "#Addition (+): Adds the first operand to the second operand.\n",
    "\n",
    "#Adding two operands together multiplies them (*).\n",
    "\n",
    "#Division (/): Divides the first and second operands by one.\n",
    "\n",
    "#Divides the first operand by the second operand and returns the quotient (floor division, /).\n",
    "\n",
    "#Modulus (%): Returns the remainder after dividing the first operand by the second operand.\n",
    "\n",
    "#Raising the first operand to the power of the second operand is known as exponentiation (**).    "
   ]
  },
  {
   "cell_type": "code",
   "execution_count": 49,
   "id": "e2577117",
   "metadata": {},
   "outputs": [],
   "source": [
    "#It's important to remember that only numeric data types, like integers, floats, and complex numbers, \n",
    " #can be used for arithmetic operations. When performing multiple arithmetic operations in a single statement, \n",
    "    #the precedence of operators must also be taken into account. The following is the order of precedence:\n",
    "\n",
    "#Parentheses\n",
    "#Exponentiation\n",
    "#Modulus, Division, Floor Division, and Multiplication (evaluated from left to right)\n",
    "#Subtraction and Addition (evaluated from left to right)\n",
    "\n",
    "#It's crucial to pick a name for variables used in arithmetic operations that accurately describes the information being stored there. \n",
    " #The Python naming conventions should be followed, and variable names should be clear and concise. \n",
    "    #For instance, variable names must not contain spaces or special characters and must begin with a letter or an underscore. \n",
    "       #Using lowercase letters for variable names is also recommended, with the exception of constants, which should be written in uppercase."
   ]
  },
  {
   "cell_type": "code",
   "execution_count": 50,
   "id": "43837913",
   "metadata": {},
   "outputs": [
    {
     "name": "stdout",
     "output_type": "stream",
     "text": [
      "13\n"
     ]
    }
   ],
   "source": [
    "#Addition (+): Adds the first operand to the second operand.\n",
    "\n",
    "\n",
    "x = 4\n",
    "y = 9\n",
    "result = x+y\n",
    "print(result)"
   ]
  },
  {
   "cell_type": "code",
   "execution_count": 51,
   "id": "d8d74f3f",
   "metadata": {},
   "outputs": [
    {
     "name": "stdout",
     "output_type": "stream",
     "text": [
      "-5\n"
     ]
    }
   ],
   "source": [
    "#Subtraction (-): Subtracts the first operand to the second operand.\n",
    "\n",
    "\n",
    "x = 4\n",
    "y = 9\n",
    "result = x-y\n",
    "print(result)"
   ]
  },
  {
   "cell_type": "code",
   "execution_count": 52,
   "id": "ba183c40",
   "metadata": {},
   "outputs": [
    {
     "name": "stdout",
     "output_type": "stream",
     "text": [
      "36\n"
     ]
    }
   ],
   "source": [
    "#Adding two operands together multiplies them (*).\n",
    "\n",
    "\n",
    "x = 4\n",
    "y = 9\n",
    "result = x*y\n",
    "print(result)"
   ]
  },
  {
   "cell_type": "code",
   "execution_count": 53,
   "id": "1c32f09f",
   "metadata": {},
   "outputs": [
    {
     "name": "stdout",
     "output_type": "stream",
     "text": [
      "0.4444444444444444\n"
     ]
    }
   ],
   "source": [
    "#Division (/): Divides the first and second operands by one.\n",
    "\n",
    "\n",
    "x = 4\n",
    "y = 9\n",
    "result = x/y\n",
    "print(result)"
   ]
  },
  {
   "cell_type": "code",
   "execution_count": 54,
   "id": "88d1c37b",
   "metadata": {},
   "outputs": [
    {
     "name": "stdout",
     "output_type": "stream",
     "text": [
      "0\n"
     ]
    }
   ],
   "source": [
    "#Divides the first operand by the second operand and returns the quotient (floor division, /).\n",
    "\n",
    "\n",
    "x = 4\n",
    "y = 9\n",
    "result = x//y\n",
    "print(result)"
   ]
  },
  {
   "cell_type": "code",
   "execution_count": 55,
   "id": "d0ffbab7",
   "metadata": {},
   "outputs": [
    {
     "name": "stdout",
     "output_type": "stream",
     "text": [
      "262144\n"
     ]
    }
   ],
   "source": [
    "#In this code, the variables x and y are declared, and their respective values are 4 and 9, respectively. \n",
    " #Then we perform exponentiation, or x raised to the power of y, using the double-asterisk ** operator. \n",
    "    #The variable result is then given the outcome of this operation. We then print the value of the result.\n",
    "\n",
    "#In this case, x raised to the power of y is equal to 4, which is a very big number, raised to the power of 9. \n",
    " #This code demonstrates how to raise one value to the power of another using exponentiation in Python using the ** operator.\n",
    "\n",
    "\n",
    "x = 4\n",
    "y = 9\n",
    "result = x**y\n",
    "print(result)"
   ]
  },
  {
   "cell_type": "code",
   "execution_count": 56,
   "id": "091cc03a",
   "metadata": {},
   "outputs": [
    {
     "name": "stdout",
     "output_type": "stream",
     "text": [
      "2.0\n"
     ]
    }
   ],
   "source": [
    "#Division (/): Divides the first and second operands by one.\n",
    "\n",
    "\n",
    "x = 4\n",
    "y = 2\n",
    "result = x/y\n",
    "print(result)"
   ]
  },
  {
   "cell_type": "code",
   "execution_count": 57,
   "id": "0a5f4368",
   "metadata": {},
   "outputs": [
    {
     "name": "stdout",
     "output_type": "stream",
     "text": [
      "0\n"
     ]
    }
   ],
   "source": [
    "#Divides the first operand by the second operand and returns the quotient (floor division, /).\n",
    "\n",
    "\n",
    "x = 4\n",
    "y = 9\n",
    "result = x//y\n",
    "print(result)"
   ]
  },
  {
   "cell_type": "code",
   "execution_count": 58,
   "id": "d7436664",
   "metadata": {},
   "outputs": [
    {
     "name": "stdout",
     "output_type": "stream",
     "text": [
      "4\n"
     ]
    }
   ],
   "source": [
    "#Modulus (%): Returns the remainder after dividing the first operand by the second operand.\n",
    "\n",
    "\n",
    "x = 4\n",
    "y = 9\n",
    "result = x%y\n",
    "print(result)"
   ]
  },
  {
   "cell_type": "code",
   "execution_count": 59,
   "id": "500afc53",
   "metadata": {},
   "outputs": [
    {
     "name": "stdout",
     "output_type": "stream",
     "text": [
      "0.4579918032786885\n"
     ]
    }
   ],
   "source": [
    "#Division (/): Divides the first and second operands by one.\n",
    "\n",
    "\n",
    "x = 4.47\n",
    "y = 9.76\n",
    "result = x/y\n",
    "print(result)"
   ]
  },
  {
   "cell_type": "code",
   "execution_count": 60,
   "id": "19662487",
   "metadata": {},
   "outputs": [],
   "source": [
    "#String Operations"
   ]
  },
  {
   "cell_type": "code",
   "execution_count": 61,
   "id": "7ca7aa00",
   "metadata": {},
   "outputs": [],
   "source": [
    "#STRINGS ARE COLLECTIONS OF CHARACTERS THAT ARE ENCASED IN QUOTES IN PYTHON. \n",
    " #THE TERM \"STRING OPERATIONS\" REFERS TO A VARIETY OF TECHNIQUES THAT CAN BE USED TO MANIPULATE AND TRANSFORM STRINGS. \n",
    "    #IN PYTHON, A FEW OF THE MOST POPULAR STRING OPERATIONS ARE AS FOLLOWS:\n",
    "\n",
    "#Concatenation entails using the \"+\" operator to join two or more strings together. \n",
    " #For instance, the string \"helloworld\" would be produced by adding \"hello\" and \"world.\"\n",
    "\n",
    "#Accessing individual characters in a string by using their location within it is called indexing. \n",
    " #For instance, the index notation \"hello[0]\" can be used to access the first character in the string \"hello\".\n",
    "\n",
    "#Slicing: Using the starting and ending indices of a string, a portion of the string is extracted. \n",
    " #For instance, the notation \"hello[1:4]\" can be used to slice the string \"hello\" to get the substring \"ell\".\n",
    "\n",
    "#Length: The \"len()\" function is used to determine how many characters are present in a string. \n",
    " #For instance, the command \"len('hello')\" would return the value 5 when used to determine the length of the string.\n",
    "\n",
    "#Formatting: Using the \"\" notation, a string is modified to include dynamic values.\n",
    " #For instance, the command \"print('Hello,!'.format('John'))\" can format \"Hello,! \" to include the name \"John\".\n",
    "\n",
    "#Case conversion entails using the \".upper()\" and \".lower()\" methods to change a string's case to uppercase or lowercase. \n",
    " #For instance, the command \"print('Hello'.lower())\" will return the value \"hello\" if the string \"Hello\" is converted to lowercase.\n",
    "\n",
    "#THESE ARE JUST A FEW OF THE NUMEROUS STRING OPERATIONS PYTHON OFFERS. \n",
    " #EFFECTIVE STRING MANIPULATION IN PYTHON PROGRAMMING REQUIRES AN UNDERSTANDING OF THESE OPERATIONS."
   ]
  },
  {
   "cell_type": "code",
   "execution_count": 62,
   "id": "9e33abb4",
   "metadata": {},
   "outputs": [
    {
     "name": "stdout",
     "output_type": "stream",
     "text": [
      "Hello world\n"
     ]
    }
   ],
   "source": [
    "#Concatenation entails using the \"+\" operator to join two or more strings together. \n",
    " #For instance, the string \"helloworld\" would be produced by adding \"hello\" and \"world.\"\n",
    "\n",
    "\n",
    "var1 = \"Hello\"\n",
    "var2 = \"world\"\n",
    "concatenated = var1 + \" \" + var2\n",
    "print(concatenated)\n"
   ]
  },
  {
   "cell_type": "code",
   "execution_count": 63,
   "id": "6f1520ba",
   "metadata": {},
   "outputs": [
    {
     "name": "stdout",
     "output_type": "stream",
     "text": [
      "e\n",
      "d\n"
     ]
    }
   ],
   "source": [
    "#Accessing individual characters in a string by using their location within it is called indexing. \n",
    " #For instance, the index notation \"hello[0]\" can be used to access the first character in the string \"hello\".\n",
    "\n",
    "\n",
    "var1 = \"Hello\"\n",
    "var2 = \"world\"\n",
    "print(var1[1])\n",
    "print(var2[-1]) "
   ]
  },
  {
   "cell_type": "code",
   "execution_count": 64,
   "id": "4ea05890",
   "metadata": {},
   "outputs": [
    {
     "name": "stdout",
     "output_type": "stream",
     "text": [
      "ell\n",
      "rld\n"
     ]
    }
   ],
   "source": [
    "#Slicing: Using the starting and ending indices of a string, a portion of the string is extracted. \n",
    " #For instance, the notation \"hello[1:4]\" can be used to slice the string \"hello\" to get the substring \"ell\".\n",
    "\n",
    "\n",
    "var1 = \"Hello\"\n",
    "var2 = \"world\"\n",
    "print(var1[1:4]) \n",
    "print(var2[2:]) "
   ]
  },
  {
   "cell_type": "code",
   "execution_count": 65,
   "id": "17d0ca42",
   "metadata": {},
   "outputs": [
    {
     "name": "stdout",
     "output_type": "stream",
     "text": [
      "5\n",
      "5\n"
     ]
    }
   ],
   "source": [
    "#Length: The \"len()\" function is used to determine how many characters are present in a string. \n",
    " #For instance, the command \"len('hello')\" would return the value 5 when used to determine the length of the string.\n",
    "\n",
    "\n",
    "var1 = \"Hello\"\n",
    "var2 = \"world\"\n",
    "print(len(var1))\n",
    "print(len(var2))"
   ]
  },
  {
   "cell_type": "code",
   "execution_count": 66,
   "id": "17b62e0d",
   "metadata": {},
   "outputs": [
    {
     "name": "stdout",
     "output_type": "stream",
     "text": [
      "Hello world!\n",
      "I say hello!\n"
     ]
    }
   ],
   "source": [
    "#Formatting: Using the \"\" notation, a string is modified to include dynamic values. \n",
    " #For instance, the command \"print('Hello,!'.format('John'))\" can format \"Hello,! \" to include the name \"John\".\n",
    "\n",
    "\n",
    "var1 = \"Hello\"\n",
    "var2 = \"world\"\n",
    "formatted = \"{} {}!\".format(var1, var2)\n",
    "print(formatted)\n",
    "\n",
    "\n",
    "var1 = \"hello\"\n",
    "formatted = \"I say {}!\".format(var1)\n",
    "print(formatted)"
   ]
  },
  {
   "cell_type": "code",
   "execution_count": 67,
   "id": "f60458a2",
   "metadata": {},
   "outputs": [
    {
     "name": "stdout",
     "output_type": "stream",
     "text": [
      "hello\n",
      "HELLO\n",
      "hello\n",
      "WORLD\n"
     ]
    }
   ],
   "source": [
    "#Case conversion entails using the \".upper()\" and \".lower()\" methods to change a string's case to uppercase or lowercase. \n",
    " #For instance, the command \"print('Hello'.lower())\" will return the value \"hello\" if the string \"Hello\" is converted to lowercase.\n",
    "\n",
    "\n",
    "var1 = \"Hello\"\n",
    "lowercase = var1.lower()\n",
    "uppercase = var1.upper()\n",
    "print(lowercase) \n",
    "print(uppercase)\n",
    "\n",
    "\n",
    "var1 = \"Hello\"\n",
    "var2 = \"world\"\n",
    "print(var1.lower()) # Output: \"hello\"\n",
    "print(var2.upper()) # Output: \"WORLD\""
   ]
  },
  {
   "cell_type": "code",
   "execution_count": 68,
   "id": "930cf571",
   "metadata": {},
   "outputs": [
    {
     "data": {
      "text/plain": [
       "str"
      ]
     },
     "execution_count": 68,
     "metadata": {},
     "output_type": "execute_result"
    }
   ],
   "source": [
    "var = \"python\"\n",
    "type(var)"
   ]
  },
  {
   "cell_type": "code",
   "execution_count": 69,
   "id": "2e911053",
   "metadata": {},
   "outputs": [
    {
     "name": "stdout",
     "output_type": "stream",
     "text": [
      "p\n"
     ]
    }
   ],
   "source": [
    "#Variable \"python\" is used (var[0]) - This program prints the letter \"p,\" the first character in the string \"python.\" \n",
    " #Since indexing in Python begins at 0, var[0] returns the string's first character.\n",
    "\n",
    "\n",
    "var = \"python\"\n",
    "print(var[0])"
   ]
  },
  {
   "cell_type": "code",
   "execution_count": 70,
   "id": "e184003e",
   "metadata": {},
   "outputs": [
    {
     "name": "stdout",
     "output_type": "stream",
     "text": [
      "n\n"
     ]
    }
   ],
   "source": [
    "#Variable \"python\" is used (var[5]) - The sixth character of the string \"python,\" which is the letter \"n,\" is printed by this program. \n",
    " #Again, indexing begins at 0, so var[5] returns the string's sixth character.\n",
    "\n",
    "\n",
    "var = \"python\"\n",
    "print(var[5])"
   ]
  },
  {
   "cell_type": "code",
   "execution_count": 71,
   "id": "3df8107b",
   "metadata": {},
   "outputs": [
    {
     "name": "stdout",
     "output_type": "stream",
     "text": [
      "p\n"
     ]
    }
   ],
   "source": [
    "#Variable \"python\" is used (var[0:1]) - This program prints the \"python\" substring starting at character 1 and ending at character 2, \n",
    "#in that order (exclusive). As a result, the string \"p\" is printed.\n",
    "\n",
    "\n",
    "var = \"python\"\n",
    "print(var[0:1])"
   ]
  },
  {
   "cell_type": "code",
   "execution_count": 72,
   "id": "aec35b93",
   "metadata": {},
   "outputs": [
    {
     "name": "stdout",
     "output_type": "stream",
     "text": [
      "py\n"
     ]
    }
   ],
   "source": [
    "#Variable \"python\" is used (var[0:2]) - This program prints the \"python\" substring starting at character 1 and ending at character 3, \n",
    " #in that order (exclusive). As a result, the string \"py\" is printed.\n",
    "\n",
    "\n",
    "var = \"python\"\n",
    "print(var[0:2])"
   ]
  },
  {
   "cell_type": "code",
   "execution_count": 73,
   "id": "6b9e8aff",
   "metadata": {},
   "outputs": [
    {
     "name": "stdout",
     "output_type": "stream",
     "text": [
      "pytho\n"
     ]
    }
   ],
   "source": [
    "#Variable \"python\" is used (var[0:5]) - This program prints the first six characters of the substring \"python\" starting from the first character (exclusive). \n",
    " #As a result,the word \"python\" is printed in its entirety.\n",
    "\n",
    "\n",
    "var = \"python\"\n",
    "print(var[0:5])"
   ]
  },
  {
   "cell_type": "code",
   "execution_count": 74,
   "id": "3e5728cf",
   "metadata": {},
   "outputs": [
    {
     "name": "stdout",
     "output_type": "stream",
     "text": [
      "python\n"
     ]
    }
   ],
   "source": [
    "#This program also prints the entire string \"python\" as var = \"python\"nprint(var[0:6])\". The reason is that because indexing is exclusive, \n",
    " #var[0:6] includes every character in the string.\n",
    "\n",
    "\n",
    "var = \"python\"\n",
    "print(var[0:6])"
   ]
  },
  {
   "cell_type": "code",
   "execution_count": 75,
   "id": "0bea03e0",
   "metadata": {},
   "outputs": [
    {
     "name": "stdout",
     "output_type": "stream",
     "text": [
      "pytho\n"
     ]
    }
   ],
   "source": [
    "#Variable \"python\" is used (var[:5]) - This program replaces var[0:5] because the start index is not included. \n",
    " #As a result, the string \"pytho\" is printed.\n",
    "\n",
    "\n",
    "var = \"python\"\n",
    "print(var[:5])"
   ]
  },
  {
   "cell_type": "code",
   "execution_count": 76,
   "id": "05cc3f08",
   "metadata": {},
   "outputs": [
    {
     "name": "stdout",
     "output_type": "stream",
     "text": [
      "python\n"
     ]
    }
   ],
   "source": [
    "#Variable \"python\" is used (var[:6]) - This program replaces var[0:6] because the start index is not included. \n",
    " #As a result, the word \"python\" is printed in its entirety.\n",
    "\n",
    "\n",
    "var = \"python\"\n",
    "print(var[:6])"
   ]
  },
  {
   "cell_type": "code",
   "execution_count": 77,
   "id": "ede782eb",
   "metadata": {},
   "outputs": [
    {
     "name": "stdout",
     "output_type": "stream",
     "text": [
      "python\n"
     ]
    }
   ],
   "source": [
    "#Variable \"python\" is used (var[0:]) - The substring of \"python,\" starting at the first character and ending at the last character, \n",
    " #is printed by this program. As a result, the word \"python\" is printed in its entirety.\n",
    "\n",
    "\n",
    "var = \"python\"\n",
    "print(var[0:])"
   ]
  },
  {
   "cell_type": "code",
   "execution_count": 78,
   "id": "dfdbfd07",
   "metadata": {},
   "outputs": [
    {
     "name": "stdout",
     "output_type": "stream",
     "text": [
      "thon\n"
     ]
    }
   ],
   "source": [
    "#Variable \"python\" is used (var[2:]) - The substring of \"python,\" beginning with the third character and ending with the last character, \n",
    " #is printed by this program. As a result, the string \"thon\" is printed.\n",
    "\n",
    "\n",
    "var = \"python\"\n",
    "print(var[2:])"
   ]
  },
  {
   "cell_type": "code",
   "execution_count": 79,
   "id": "dac82d8a",
   "metadata": {},
   "outputs": [
    {
     "name": "stdout",
     "output_type": "stream",
     "text": [
      "python\n"
     ]
    }
   ],
   "source": [
    "#Variable \"python\" is used (var[0:50]) - This program prints \"pythonsubstring \"'s beginning with character 1 and ending with character 50.\n",
    " #(exclusive). Since the string only contains six characters, the word \"python\" will be printed in its entirety.\n",
    "\n",
    "\n",
    "var = \"python\"\n",
    "print(var[0:50])"
   ]
  },
  {
   "cell_type": "code",
   "execution_count": 80,
   "id": "22eac8df",
   "metadata": {},
   "outputs": [
    {
     "name": "stdout",
     "output_type": "stream",
     "text": [
      "n\n"
     ]
    }
   ],
   "source": [
    "#Variable \"python\" is used (var[5:25]) - This program prints the substring of \"python,\" \n",
    " #beginning at character six and ending at character twenty-five (exclusive). The string 'n' will be printed because it only contains six characters.\n",
    "\n",
    "\n",
    "\n",
    "var = \"python\"\n",
    "print(var[5:25])"
   ]
  },
  {
   "cell_type": "code",
   "execution_count": 81,
   "id": "2a6cef70",
   "metadata": {},
   "outputs": [
    {
     "data": {
      "text/plain": [
       "6"
      ]
     },
     "execution_count": 81,
     "metadata": {},
     "output_type": "execute_result"
    }
   ],
   "source": [
    "#This program uses the len() function to determine the length of the string \"python\" and prints the result, which is 6.\n",
    "\n",
    "\n",
    "var = \"python\"\n",
    "len(var)"
   ]
  }
 ],
 "metadata": {
  "kernelspec": {
   "display_name": "Python 3 (ipykernel)",
   "language": "python",
   "name": "python3"
  },
  "language_info": {
   "codemirror_mode": {
    "name": "ipython",
    "version": 3
   },
   "file_extension": ".py",
   "mimetype": "text/x-python",
   "name": "python",
   "nbconvert_exporter": "python",
   "pygments_lexer": "ipython3",
   "version": "3.9.13"
  }
 },
 "nbformat": 4,
 "nbformat_minor": 5
}
